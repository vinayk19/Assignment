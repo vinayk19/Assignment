{
  "nbformat": 4,
  "nbformat_minor": 0,
  "metadata": {
    "colab": {
      "name": "RNN_basic.ipynb",
      "provenance": [],
      "authorship_tag": "ABX9TyMbLRxJOHMncHrsSrJLQuBZ",
      "include_colab_link": true
    },
    "kernelspec": {
      "name": "python3",
      "display_name": "Python 3"
    }
  },
  "cells": [
    {
      "cell_type": "markdown",
      "metadata": {
        "id": "view-in-github",
        "colab_type": "text"
      },
      "source": [
        "<a href=\"https://colab.research.google.com/github/vinayk19/Assignment/blob/master/RNN_basic.ipynb\" target=\"_parent\"><img src=\"https://colab.research.google.com/assets/colab-badge.svg\" alt=\"Open In Colab\"/></a>"
      ]
    },
    {
      "cell_type": "code",
      "metadata": {
        "id": "cPRTGYyFYVTD",
        "colab_type": "code",
        "colab": {}
      },
      "source": [
        "import torch\n",
        "from torch.autograd import Variable\n",
        "from torch import nn, optim, cuda\n",
        "from torch.utils.data import DataLoader, Dataset\n",
        "import torchvision\n",
        "from torchvision import transforms\n",
        "import numpy as np\n",
        "import pandas as pd\n",
        "import matplotlib.pyplot \n",
        "import torch.nn.functional as F\n",
        "import time\n",
        "import matplotlib.pyplot as plt"
      ],
      "execution_count": 0,
      "outputs": []
    },
    {
      "cell_type": "code",
      "metadata": {
        "id": "EoTPdZkia9wt",
        "colab_type": "code",
        "colab": {}
      },
      "source": [
        "# teach hihell  >- ihello\n",
        "indxchar = ['h', 'i', 'e', 'l', 'o'] \n",
        "#            0    1    2    3    4\n",
        "x_data =[[0,1,0,2,3,3]]     # hihell\n",
        "\n",
        "x_one_hot = [[[1,0,0,0,0], #h 0\n",
        "              [0,1,0,0,0], #i 1 \n",
        "              [1,0,0,0,0], #h 0\n",
        "              [0,0,1,0,0], # e 2 \n",
        "              [0,0,0,1,0], # l 3\n",
        "              [0,0,0,1,0]]] # l 3\n",
        "\n",
        "y_data = [1, 0, 2, 3, 3, 4 ] #ihello"
      ],
      "execution_count": 0,
      "outputs": []
    },
    {
      "cell_type": "code",
      "metadata": {
        "id": "SrN9xc88fyTa",
        "colab_type": "code",
        "colab": {}
      },
      "source": [
        "# # teach hihell  >- ihello\n",
        "# indxchar = ['h', 'i', 'e', 'l', 'o'] \n",
        "# #            0    1    2    3    4\n",
        "# x_data =[0,1,0,2,3,3]     # hihell\n",
        "# one_hot_lookup = [[[1,0,0,0,0],# 0\n",
        "#                   [0,1,0,0,0], # 1 \n",
        "#                   [0,0,1,0,0], # 2\n",
        "#                   [0,0,0,1,0], # 3 \n",
        "#                   [0,0,0,0,1], # 4\n",
        "#                   [0,0,0,0,0]]]# 5 end\n",
        "# y_data = [1, 0, 2, 3, 3, 4 ] #ihello\n",
        "# x_one_hot = [one_hot_lookup[x] for x in x_data]"
      ],
      "execution_count": 0,
      "outputs": []
    },
    {
      "cell_type": "code",
      "metadata": {
        "id": "gczbiWsCeWGp",
        "colab_type": "code",
        "colab": {}
      },
      "source": [
        "inputs = Variable(torch.Tensor(x_one_hot))\n",
        "labels = Variable(torch.Tensor(y_data))"
      ],
      "execution_count": 0,
      "outputs": []
    },
    {
      "cell_type": "code",
      "metadata": {
        "id": "iCYMImYDfJu4",
        "colab_type": "code",
        "colab": {
          "base_uri": "https://localhost:8080/",
          "height": 145
        },
        "outputId": "0b8db2da-a038-49e2-f9c0-b2edf6f458f2"
      },
      "source": [
        "print(\"input\", inputs)\n",
        "print(\"output\", labels)\n"
      ],
      "execution_count": 9,
      "outputs": [
        {
          "output_type": "stream",
          "text": [
            "input tensor([[[1., 0., 0., 0., 0.],\n",
            "         [0., 1., 0., 0., 0.],\n",
            "         [1., 0., 0., 0., 0.],\n",
            "         [0., 0., 1., 0., 0.],\n",
            "         [0., 0., 0., 1., 0.],\n",
            "         [0., 0., 0., 1., 0.]]])\n",
            "output tensor([1., 0., 2., 3., 3., 4.])\n"
          ],
          "name": "stdout"
        }
      ]
    },
    {
      "cell_type": "markdown",
      "metadata": {
        "id": "kTvOK0GZCyW4",
        "colab_type": "text"
      },
      "source": [
        "Parameters"
      ]
    },
    {
      "cell_type": "code",
      "metadata": {
        "id": "aN8F3tiffu6s",
        "colab_type": "code",
        "colab": {}
      },
      "source": [
        "num_classes = 5\n",
        "input_size = 5 \n",
        "hidden_size = 5 \n",
        "batch_size = 1\n",
        "squence_length =1\n",
        "num_layers =1"
      ],
      "execution_count": 0,
      "outputs": []
    },
    {
      "cell_type": "code",
      "metadata": {
        "id": "hetEBYdnC4fB",
        "colab_type": "code",
        "colab": {}
      },
      "source": [
        "class Model(nn.Module):\n",
        "  def __init__(self):\n",
        "    super(Model, self).__init__()\n",
        "    self.rnn = nn.RNN(input_size = input_size, hidden_size = hidden_size, batch_first = True)\n",
        "#batch_first – If True, then the input and output tensors are provided as (batch, seq, feature). Default: False\n",
        "  def forward(self, hidden, x):\n",
        "    x = x.view(batch_size, sequence_length, input_size)\n",
        "\n",
        "    out, hidden = self.rnn(x,hidden)\n",
        "    out = out.view(-1, num_classes)\n",
        "    \n",
        "    retunn hidden, out\n",
        "\n",
        "  def init_hidden(self):\n",
        "\n",
        "    return \n"
      ],
      "execution_count": 0,
      "outputs": []
    },
    {
      "cell_type": "code",
      "metadata": {
        "id": "btt0TnmzC4-7",
        "colab_type": "code",
        "colab": {}
      },
      "source": [
        ""
      ],
      "execution_count": 0,
      "outputs": []
    }
  ]
}
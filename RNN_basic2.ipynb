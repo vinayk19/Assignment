{
  "nbformat": 4,
  "nbformat_minor": 0,
  "metadata": {
    "colab": {
      "name": "RNN_basic2.ipynb",
      "provenance": [],
      "authorship_tag": "ABX9TyNXot4jsFgBDsH9sMhkcetP",
      "include_colab_link": true
    },
    "kernelspec": {
      "name": "python3",
      "display_name": "Python 3"
    }
  },
  "cells": [
    {
      "cell_type": "markdown",
      "metadata": {
        "id": "view-in-github",
        "colab_type": "text"
      },
      "source": [
        "<a href=\"https://colab.research.google.com/github/vinayk19/Assignment/blob/master/RNN_basic2.ipynb\" target=\"_parent\"><img src=\"https://colab.research.google.com/assets/colab-badge.svg\" alt=\"Open In Colab\"/></a>"
      ]
    },
    {
      "cell_type": "code",
      "metadata": {
        "id": "n7C1NhYaFLBI",
        "colab_type": "code",
        "colab": {}
      },
      "source": [
        "import numpy as np\n",
        "\n",
        "import torch\n",
        "import torch.nn as nn\n",
        "import torch.optim as optim\n",
        "from torch.utils.data import Dataset, DataLoader"
      ],
      "execution_count": 0,
      "outputs": []
    },
    {
      "cell_type": "markdown",
      "metadata": {
        "id": "LJYL1CxSFqgK",
        "colab_type": "text"
      },
      "source": [
        "input 1:20 , Batch Size = 4\n",
        "Sequence Length = 5\n",
        "Input Size = 1 (Since, only one dimension)"
      ]
    },
    {
      "cell_type": "code",
      "metadata": {
        "id": "RZb4c34pFYld",
        "colab_type": "code",
        "colab": {
          "base_uri": "https://localhost:8080/",
          "height": 90
        },
        "outputId": "4ac5aadc-8dce-4680-bc97-b37ad8ebfffb"
      },
      "source": [
        "data = torch.Tensor([1, 2, 3, 4, 5, 6, 7, 8, 9, 10, 11, 12, 13, 14, 15, 16, 17, 18, 19, 20])\n",
        "# data = torch.Tensor([range(1,21)])\n",
        "print(\"Data: \", data.shape, \"\\n\\n\", data)"
      ],
      "execution_count": 10,
      "outputs": [
        {
          "output_type": "stream",
          "text": [
            "Data:  torch.Size([20]) \n",
            "\n",
            " tensor([ 1.,  2.,  3.,  4.,  5.,  6.,  7.,  8.,  9., 10., 11., 12., 13., 14.,\n",
            "        15., 16., 17., 18., 19., 20.])\n"
          ],
          "name": "stdout"
        }
      ]
    },
    {
      "cell_type": "markdown",
      "metadata": {
        "id": "XSRMZCzqGzjN",
        "colab_type": "text"
      },
      "source": [
        "Vanilla RNN\n",
        "1. define inputs parameter: input and h0\n",
        "\n",
        "Input\n",
        "\n",
        "  seq_length = 5 # length if longest sequence\n",
        "\n",
        "  batch= 4 # no of batches\n",
        "\n",
        "  input_size = 1 # no of imput dimention\n",
        "\n",
        "   num_ layer =1 no of stacked enn layer\n",
        "\n",
        "h0\n",
        "\n",
        "2. output parameter"
      ]
    },
    {
      "cell_type": "markdown",
      "metadata": {
        "id": "nTmOOkmxI6Ik",
        "colab_type": "text"
      },
      "source": [
        ""
      ]
    },
    {
      "cell_type": "markdown",
      "metadata": {
        "id": "6OdcbO3iI9C5",
        "colab_type": "text"
      },
      "source": [
        ""
      ]
    },
    {
      "cell_type": "code",
      "metadata": {
        "id": "0H2pYrWGFZDP",
        "colab_type": "code",
        "colab": {}
      },
      "source": [
        "#input\n",
        "seq_length = 5 # length if longest sequence \n",
        "batch= 4 # no of batches\n",
        "input_size = 1 # no of imput dimention\n"
      ],
      "execution_count": 0,
      "outputs": []
    },
    {
      "cell_type": "code",
      "metadata": {
        "id": "YgUnVTWgFZKt",
        "colab_type": "code",
        "colab": {}
      },
      "source": [
        "#h0\n",
        "num_layer =1 # nos of stacked rnn layers 2 for bi\n",
        "num_direction =1 # 2 for bi lstm\n",
        "batch = 4 ?\n",
        "hidden_size = \n"
      ],
      "execution_count": 0,
      "outputs": []
    },
    {
      "cell_type": "code",
      "metadata": {
        "id": "jtVD8Hk1FZSc",
        "colab_type": "code",
        "colab": {}
      },
      "source": [
        ""
      ],
      "execution_count": 0,
      "outputs": []
    },
    {
      "cell_type": "code",
      "metadata": {
        "id": "SuJWSegfFZcJ",
        "colab_type": "code",
        "colab": {}
      },
      "source": [
        ""
      ],
      "execution_count": 0,
      "outputs": []
    }
  ]
}
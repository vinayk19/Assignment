{
  "nbformat": 4,
  "nbformat_minor": 0,
  "metadata": {
    "colab": {
      "name": "dataloader.ipynb",
      "provenance": [],
      "include_colab_link": true
    },
    "kernelspec": {
      "name": "python3",
      "display_name": "Python 3"
    }
  },
  "cells": [
    {
      "cell_type": "markdown",
      "metadata": {
        "id": "view-in-github",
        "colab_type": "text"
      },
      "source": [
        "<a href=\"https://colab.research.google.com/github/vinayk19/Assignment/blob/master/dataloader.ipynb\" target=\"_parent\"><img src=\"https://colab.research.google.com/assets/colab-badge.svg\" alt=\"Open In Colab\"/></a>"
      ]
    },
    {
      "cell_type": "code",
      "metadata": {
        "id": "-U7_4Xo4AvdT",
        "colab_type": "code",
        "colab": {
          "base_uri": "https://localhost:8080/",
          "height": 128
        },
        "outputId": "34fbe8ff-a330-423d-bdc9-39a72ffb985b"
      },
      "source": [
        "from google.colab import drive\n",
        "drive.mount('/content/drive')"
      ],
      "execution_count": 1,
      "outputs": [
        {
          "output_type": "stream",
          "text": [
            "Go to this URL in a browser: https://accounts.google.com/o/oauth2/auth?client_id=947318989803-6bn6qk8qdgf4n4g3pfee6491hc0brc4i.apps.googleusercontent.com&redirect_uri=urn%3aietf%3awg%3aoauth%3a2.0%3aoob&response_type=code&scope=email%20https%3a%2f%2fwww.googleapis.com%2fauth%2fdocs.test%20https%3a%2f%2fwww.googleapis.com%2fauth%2fdrive%20https%3a%2f%2fwww.googleapis.com%2fauth%2fdrive.photos.readonly%20https%3a%2f%2fwww.googleapis.com%2fauth%2fpeopleapi.readonly\n",
            "\n",
            "Enter your authorization code:\n",
            "··········\n",
            "Mounted at /content/drive\n"
          ],
          "name": "stdout"
        }
      ]
    },
    {
      "cell_type": "code",
      "metadata": {
        "id": "-YCLsowA34rE",
        "colab_type": "code",
        "outputId": "97cb2185-78fa-4256-daed-b847ea6bae80",
        "colab": {
          "base_uri": "https://localhost:8080/",
          "height": 35
        }
      },
      "source": [
        "cd /content/drive/My Drive/AI/basic/dataloader practice"
      ],
      "execution_count": 112,
      "outputs": [
        {
          "output_type": "stream",
          "text": [
            "/content/drive/My Drive/AI/basic/dataloader practice\n"
          ],
          "name": "stdout"
        }
      ]
    },
    {
      "cell_type": "code",
      "metadata": {
        "id": "cNE85Uk14tjK",
        "colab_type": "code",
        "colab": {}
      },
      "source": [
        "import torch\n",
        "from torch.autograd import Variable\n",
        "import numpy as np\n",
        "from torch.utils.data import Dataset, DataLoader"
      ],
      "execution_count": 0,
      "outputs": []
    },
    {
      "cell_type": "code",
      "metadata": {
        "id": "f2X5bntx5i2_",
        "colab_type": "code",
        "outputId": "57e652a1-be89-44fa-8189-179ab84f2308",
        "colab": {
          "base_uri": "https://localhost:8080/",
          "height": 35
        }
      },
      "source": [
        "ls"
      ],
      "execution_count": 114,
      "outputs": [
        {
          "output_type": "stream",
          "text": [
            "dataloader.ipynb  diabetes.csv\n"
          ],
          "name": "stdout"
        }
      ]
    },
    {
      "cell_type": "markdown",
      "metadata": {
        "id": "2lDtz5Bw5FOQ",
        "colab_type": "text"
      },
      "source": [
        "check datbsase then Inserat Data loader"
      ]
    },
    {
      "cell_type": "code",
      "metadata": {
        "id": "ZJwwzYak5AhW",
        "colab_type": "code",
        "colab": {}
      },
      "source": [
        "# xy = np.loadtxt(\"diabetes.csv\", delimiter = \",\")\n",
        "# as XY is numpy.ndarry so possible command are dir(np.ndarray)\n",
        "# xy.shape #    xy[:,:-1].shape\n"
      ],
      "execution_count": 0,
      "outputs": []
    },
    {
      "cell_type": "code",
      "metadata": {
        "id": "YZxwWbS96Rej",
        "colab_type": "code",
        "colab": {}
      },
      "source": [
        "class Diabetic(Dataset):\n",
        "  def __init__(self):\n",
        "    xy = np.loadtxt(\"diabetes.csv\", delimiter = \",\", dtype= np.float32)\n",
        "    self.len = xy.shape[0]\n",
        "    self.x_data = torch.from_numpy(xy[:, 0:-1])\n",
        "    self.y_data = torch.from_numpy(xy[:, [-1]])\n",
        "    \n",
        "  def __getitem__(self, index):\n",
        "    return self.x_data[index], self.y_data[index]\n",
        "\n",
        "  def __len__(self):\n",
        "    return self.len"
      ],
      "execution_count": 0,
      "outputs": []
    },
    {
      "cell_type": "code",
      "metadata": {
        "id": "2QF1YTibDbA9",
        "colab_type": "code",
        "colab": {
          "base_uri": "https://localhost:8080/",
          "height": 54
        },
        "outputId": "ae5ce5f9-1231-4fdf-f2ab-8a621b5fd5bd"
      },
      "source": [
        "if __name__ == '__main__':\n",
        "  dataset = Diabetic()\n",
        "  print(len(dataset))\n",
        "  # print(dataset.shape[0])\n",
        "  print(dataset[750])\n",
        "  # print(dataset[3:5])"
      ],
      "execution_count": 117,
      "outputs": [
        {
          "output_type": "stream",
          "text": [
            "759\n",
            "(tensor([-0.2941,  0.9095,  0.5082,  0.0000,  0.0000,  0.0581, -0.8292,  0.5000]), tensor([0.]))\n"
          ],
          "name": "stdout"
        }
      ]
    },
    {
      "cell_type": "code",
      "metadata": {
        "id": "LZ1bZZ_e6KBF",
        "colab_type": "code",
        "colab": {}
      },
      "source": [
        "dataset = Diabetic()\n"
      ],
      "execution_count": 0,
      "outputs": []
    },
    {
      "cell_type": "code",
      "metadata": {
        "id": "Hw1APVY-8NH4",
        "colab_type": "code",
        "colab": {}
      },
      "source": [
        "trainloader = DataLoader(dataset=dataset, batch_size=20, shuffle=True, num_workers=2)"
      ],
      "execution_count": 0,
      "outputs": []
    },
    {
      "cell_type": "code",
      "metadata": {
        "id": "sL9IVXlpLTY1",
        "colab_type": "code",
        "colab": {}
      },
      "source": [
        "class Model(torch.nn.Module):\n",
        "  def __init__(self): # it will define all the layers\n",
        "    super(Model, self).__init__()\n",
        "    self.l1 = torch.nn.Linear(8,6) #$$ input will be bs*8(featues or x_data) so it has to be 8* other value\n",
        "    self.l2 = torch.nn.Linear(6,4)\n",
        "    self.l3 = torch.nn.Linear(4,1)\n",
        "    self.Sigmoid = torch.nn.Sigmoid()\n",
        "  \n",
        "  def forward(self, x): # it has all function and activation layer and its sequence\n",
        "    f1 = self.Sigmoid(self.l1(x))\n",
        "    f2 = self.Sigmoid(self.l2(f1))\n",
        "    y_pred = self.Sigmoid(self.l3(f2))\n",
        "    return y_pred"
      ],
      "execution_count": 0,
      "outputs": []
    },
    {
      "cell_type": "code",
      "metadata": {
        "id": "OQAHQWwUOGPA",
        "colab_type": "code",
        "colab": {}
      },
      "source": [
        "model = Model()"
      ],
      "execution_count": 0,
      "outputs": []
    },
    {
      "cell_type": "code",
      "metadata": {
        "id": "Yax0T-IQNlLP",
        "colab_type": "code",
        "outputId": "1e291de5-e6a3-43e8-8cc2-c20dd3366591",
        "colab": {
          "base_uri": "https://localhost:8080/",
          "height": 74
        }
      },
      "source": [
        "criterian = torch.nn.BCELoss(size_average=True) #loss functon\n",
        "optimizer = torch.optim.SGD(model.parameters(), lr=.1)"
      ],
      "execution_count": 123,
      "outputs": [
        {
          "output_type": "stream",
          "text": [
            "/usr/local/lib/python3.6/dist-packages/torch/nn/_reduction.py:43: UserWarning: size_average and reduce args will be deprecated, please use reduction='mean' instead.\n",
            "  warnings.warn(warning.format(ret))\n"
          ],
          "name": "stderr"
        }
      ]
    },
    {
      "cell_type": "code",
      "metadata": {
        "id": "IkWYrisdOJz0",
        "colab_type": "code",
        "outputId": "e0f23a02-2c6e-4103-cbdd-4c610a572e09",
        "colab": {
          "base_uri": "https://localhost:8080/",
          "height": 1000
        }
      },
      "source": [
        "#training\n",
        "for epoch in range(2):\n",
        "  for i, data in enumerate(trainloader, 0):\n",
        "    inputs, labels = data\n",
        "    inputs, labels = Variable(inputs), Variable(labels)\n",
        "    y_pred = model(inputs)\n",
        "\n",
        "    loss = criterian(y_pred, labels)\n",
        "    print(\"epoch:\", epoch, i , loss.data)\n",
        "\n",
        "    optimizer.zero_grad()\n",
        "    loss.backward()\n",
        "    optimizer.step()\n"
      ],
      "execution_count": 124,
      "outputs": [
        {
          "output_type": "stream",
          "text": [
            "epoch: 0 0 tensor(0.4554)\n",
            "epoch: 0 1 tensor(0.6481)\n",
            "epoch: 0 2 tensor(0.6166)\n",
            "epoch: 0 3 tensor(0.6161)\n",
            "epoch: 0 4 tensor(0.6162)\n",
            "epoch: 0 5 tensor(0.6477)\n",
            "epoch: 0 6 tensor(0.6156)\n",
            "epoch: 0 7 tensor(0.6151)\n",
            "epoch: 0 8 tensor(0.6814)\n",
            "epoch: 0 9 tensor(0.6478)\n",
            "epoch: 0 10 tensor(0.5830)\n",
            "epoch: 0 11 tensor(0.5143)\n",
            "epoch: 0 12 tensor(0.6483)\n",
            "epoch: 0 13 tensor(0.6835)\n",
            "epoch: 0 14 tensor(0.6828)\n",
            "epoch: 0 15 tensor(0.5807)\n",
            "epoch: 0 16 tensor(0.5447)\n",
            "epoch: 0 17 tensor(0.7207)\n",
            "epoch: 0 18 tensor(0.6484)\n",
            "epoch: 0 19 tensor(0.6831)\n",
            "epoch: 0 20 tensor(0.7500)\n",
            "epoch: 0 21 tensor(0.7767)\n",
            "epoch: 0 22 tensor(0.6478)\n",
            "epoch: 0 23 tensor(0.5871)\n",
            "epoch: 0 24 tensor(0.6475)\n",
            "epoch: 0 25 tensor(0.7413)\n",
            "epoch: 0 26 tensor(0.6179)\n",
            "epoch: 0 27 tensor(0.7690)\n",
            "epoch: 0 28 tensor(0.6484)\n",
            "epoch: 0 29 tensor(0.6763)\n",
            "epoch: 0 30 tensor(0.5917)\n",
            "epoch: 0 31 tensor(0.6773)\n",
            "epoch: 0 32 tensor(0.7055)\n",
            "epoch: 0 33 tensor(0.6761)\n",
            "epoch: 0 34 tensor(0.6760)\n",
            "epoch: 0 35 tensor(0.6209)\n",
            "epoch: 0 36 tensor(0.7039)\n",
            "epoch: 0 37 tensor(0.6016)\n",
            "epoch: 1 0 tensor(0.6482)\n",
            "epoch: 1 1 tensor(0.7044)\n",
            "epoch: 1 2 tensor(0.6207)\n",
            "epoch: 1 3 tensor(0.6480)\n",
            "epoch: 1 4 tensor(0.6481)\n",
            "epoch: 1 5 tensor(0.5919)\n",
            "epoch: 1 6 tensor(0.7358)\n",
            "epoch: 1 7 tensor(0.7597)\n",
            "epoch: 1 8 tensor(0.7792)\n",
            "epoch: 1 9 tensor(0.6500)\n",
            "epoch: 1 10 tensor(0.6255)\n",
            "epoch: 1 11 tensor(0.5995)\n",
            "epoch: 1 12 tensor(0.5962)\n",
            "epoch: 1 13 tensor(0.6758)\n",
            "epoch: 1 14 tensor(0.6215)\n",
            "epoch: 1 15 tensor(0.7035)\n",
            "epoch: 1 16 tensor(0.6753)\n",
            "epoch: 1 17 tensor(0.6217)\n",
            "epoch: 1 18 tensor(0.6483)\n",
            "epoch: 1 19 tensor(0.6756)\n",
            "epoch: 1 20 tensor(0.7297)\n",
            "epoch: 1 21 tensor(0.7005)\n",
            "epoch: 1 22 tensor(0.5489)\n",
            "epoch: 1 23 tensor(0.6756)\n",
            "epoch: 1 24 tensor(0.7024)\n",
            "epoch: 1 25 tensor(0.6227)\n",
            "epoch: 1 26 tensor(0.7283)\n",
            "epoch: 1 27 tensor(0.5978)\n",
            "epoch: 1 28 tensor(0.6221)\n",
            "epoch: 1 29 tensor(0.5933)\n",
            "epoch: 1 30 tensor(0.5908)\n",
            "epoch: 1 31 tensor(0.5590)\n",
            "epoch: 1 32 tensor(0.7415)\n",
            "epoch: 1 33 tensor(0.6183)\n",
            "epoch: 1 34 tensor(0.5272)\n",
            "epoch: 1 35 tensor(0.4872)\n",
            "epoch: 1 36 tensor(0.6827)\n",
            "epoch: 1 37 tensor(0.5894)\n"
          ],
          "name": "stdout"
        }
      ]
    }
  ]
}
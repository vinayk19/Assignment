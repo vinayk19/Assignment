{
  "nbformat": 4,
  "nbformat_minor": 0,
  "metadata": {
    "colab": {
      "name": "softmaxClassifer_mnist.ipynb",
      "provenance": [],
      "toc_visible": true,
      "authorship_tag": "ABX9TyM02rANjXP7LyIweOrgFtdO",
      "include_colab_link": true
    },
    "kernelspec": {
      "name": "python3",
      "display_name": "Python 3"
    }
  },
  "cells": [
    {
      "cell_type": "markdown",
      "metadata": {
        "id": "view-in-github",
        "colab_type": "text"
      },
      "source": [
        "<a href=\"https://colab.research.google.com/github/vinayk19/Assignment/blob/master/softmaxClassifer_mnist.ipynb\" target=\"_parent\"><img src=\"https://colab.research.google.com/assets/colab-badge.svg\" alt=\"Open In Colab\"/></a>"
      ]
    },
    {
      "cell_type": "markdown",
      "metadata": {
        "id": "q-RiRjfbXie1",
        "colab_type": "text"
      },
      "source": [
        ""
      ]
    },
    {
      "cell_type": "markdown",
      "metadata": {
        "id": "wGkow6nLXmul",
        "colab_type": "text"
      },
      "source": [
        "Softmax : it will bring out there probability (Y_pred) after logit(z:output: ax+b). then loss function is used to calculate between probalility (Y_Pred) and real 1-hot encoded output (Y)\n",
        "loss= -YlogY_pred  \n",
        "some times in pytorch loss function has inbuilt softmax function. ie crossEntropy (z, Y) it needs Z and Y not Y_pred & Y."
      ]
    },
    {
      "cell_type": "code",
      "metadata": {
        "id": "ActWOvpBXUDh",
        "colab_type": "code",
        "colab": {}
      },
      "source": [
        "import torch\n",
        "from torch.utils.data import Dataset, DataLoader\n",
        "from torch.autograd import Variable\n",
        "import numpy as np"
      ],
      "execution_count": 0,
      "outputs": []
    },
    {
      "cell_type": "markdown",
      "metadata": {
        "id": "DXgqKIEbeLDm",
        "colab_type": "text"
      },
      "source": [
        "# 1. Basic Softmax discussion (standard)"
      ]
    },
    {
      "cell_type": "code",
      "metadata": {
        "id": "Q-rkNuH7bYmB",
        "colab_type": "code",
        "colab": {}
      },
      "source": [
        "import numpy as np\n"
      ],
      "execution_count": 0,
      "outputs": []
    },
    {
      "cell_type": "code",
      "metadata": {
        "id": "LG2xqfXzbanq",
        "colab_type": "code",
        "colab": {
          "base_uri": "https://localhost:8080/",
          "height": 72
        },
        "outputId": "c97ff7c8-c425-4f13-bd7e-3b3a44d89331"
      },
      "source": [
        "Y = np.array([1, 0, 0]) # one hot encode output\n",
        "Y_pred1 = np.array([0.7, 0.2, 0.1]) # Probability came out from softmax for real Y\n",
        "Y_pred2 = np.array([0.1, 0.3, 0.6])\n",
        "print(-Y*np.log(Y_pred1))\n",
        "print(\"Loss1 :\", np.sum(-Y*np.log(Y_pred1))) # lower loass so better prediction\n",
        "print(\"Loss2 :\", np.sum(-Y*np.log(Y_pred2))) # higher loss so bad prediont wrt 1"
      ],
      "execution_count": 100,
      "outputs": [
        {
          "output_type": "stream",
          "text": [
            "[ 0.35667494 -0.         -0.        ]\n",
            "Loss1 : 0.35667494393873245\n",
            "Loss2 : 2.3025850929940455\n"
          ],
          "name": "stdout"
        }
      ]
    },
    {
      "cell_type": "markdown",
      "metadata": {
        "id": "whjaGPE7eac-",
        "colab_type": "text"
      },
      "source": [
        "# 2. **softmax using inbuild pytorch funciton (ie loss funciton)**"
      ]
    },
    {
      "cell_type": "markdown",
      "metadata": {
        "id": "1t10uAnsxZpd",
        "colab_type": "text"
      },
      "source": [
        "    Shape: N is batch size \n",
        "        - Input: :math:`(N, C)` where `C = number of classes`\n",
        "        - Target: :math:`(N)` where ***each value is `0 <= targets[i] <= C-1`***\n",
        "        - Output: scalar. If reduce is ``False``, then :math:`(N)` instead.\n",
        "\n"
      ]
    },
    {
      "cell_type": "code",
      "metadata": {
        "id": "ivOcQ5ynhW2A",
        "colab_type": "code",
        "colab": {
          "base_uri": "https://localhost:8080/",
          "height": 163
        },
        "outputId": "984deb89-baf9-406f-aee6-84d85e000de7"
      },
      "source": [
        ">>> loss = torch.nn.CrossEntropyLoss()\n",
        ">>> input = Variable(torch.randn(3, 15), requires_grad=False)\n",
        ">>> target = Variable(torch.LongTensor(3).random_(15))# as class is 5 so its value should be 0-5\n",
        ">>> output = loss(input, target)\n",
        "print(\"input:\", input, input.shape)\n",
        "print(\"target: \", target, target.shape)\n",
        "print(\"output: \", output, output.shape, target.shape, input.shape)\n"
      ],
      "execution_count": 27,
      "outputs": [
        {
          "output_type": "stream",
          "text": [
            "input: tensor([[-0.1975, -0.2990, -1.2292, -0.2038, -0.4782, -1.0651, -1.6677, -0.3293,\n",
            "          0.6670, -0.9057, -0.8046,  0.9147, -0.6422,  0.4109,  0.3944],\n",
            "        [ 1.7523, -1.2936, -1.0902, -0.4470, -0.0939, -1.0959, -0.4857, -0.7907,\n",
            "          0.2617,  0.6683,  1.0258,  1.3173,  2.1180, -0.6760,  1.3159],\n",
            "        [-1.3803, -0.9119, -0.1082, -0.7241, -1.9650, -0.9668,  0.5587, -0.5179,\n",
            "         -0.1363,  0.7327,  1.9003, -0.0794, -0.7384,  0.7841,  0.2029]]) torch.Size([3, 15])\n",
            "target:  tensor([ 6, 10, 14]) torch.Size([3])\n",
            "output:  tensor(3.1497) torch.Size([]) torch.Size([3]) torch.Size([3, 15])\n"
          ],
          "name": "stdout"
        }
      ]
    },
    {
      "cell_type": "code",
      "metadata": {
        "id": "ca5-PZIlba0R",
        "colab_type": "code",
        "colab": {}
      },
      "source": [
        "loss = torch.nn.CrossEntropyLoss()\n",
        "# input is [3,1] as logit then output will have be [3] ie N(BS) with value of C ie 0 \n",
        "# Y1_pred1 = np.array([0.7, 0.2, 0.1]) # Probability came out from softmax for real Y\n",
        "# Y2 = Variable(torch.LongTensor([0]), requires_grad=False)\n",
        "# Input above can not be 1D tensor it has to be 2d Tensor\n",
        "# Y1_pred1 = np.array([[0.7, 0.2, 0.1], [0.4, 2.0, 1.0], [0.6, 2.0, 1.0]])\n",
        "\n",
        "# Y1_pred1 = np.array([[0.7, 0.2], [0.4, 2.0], [0.6, 2.0]]) \n",
        "# Y1_pred1 = Variable(torch.tensor(Y1_pred1))\n",
        "# Y2 = Variable(torch.LongTensor(3).random_(1)) # 2 is class came from input 3,2\n",
        "\n",
        "# Y1_pred1 = np.array([[0.7], [0.4], [0.6]]) \n",
        "# Y1_pred1 = Variable(torch.tensor(Y1_pred1))\n",
        "# Y2 = Variable(torch.LongTensor(3).random_(1)) \n",
        "\n",
        "# Y1_pred1 = np.array([[0.7, 0.2], [0.4, 2.0]]) \n",
        "# Y1_pred1 = Variable(torch.tensor(Y1_pred1))\n",
        "# Y2 = Variable(torch.LongTensor(2).random_(1)) # 2 is class came from input 3,2\n",
        "\n",
        "Y1_pred1 = np.array([0.7, 0.2]) \n",
        "Y1_pred1 = Variable(torch.tensor(Y1_pred1))\n",
        "Y2 = Variable(torch.LongTensor([0]) # 2 is class came from input 3,2\n",
        "\n",
        "print(\"input Y1_pred1:\", Y1_pred1, Y1_pred1.shape)\n",
        "print(\"target Y2: \", Y2, Y2.shape)\n",
        "output1 =loss(Y1_pred1, Y2)\n",
        "print(\"output: \", output1, output1.shape)"
      ],
      "execution_count": 0,
      "outputs": []
    },
    {
      "cell_type": "code",
      "metadata": {
        "id": "d4SRV3YZ0XX-",
        "colab_type": "code",
        "colab": {
          "base_uri": "https://localhost:8080/",
          "height": 135
        },
        "outputId": "ffa29f5f-b4b9-4593-dc87-c3f6fc6f6b17"
      },
      "source": [
        "train_loader = DataLoader(datasets.MNIST('../data', train =True, download = True)"
      ],
      "execution_count": 5,
      "outputs": [
        {
          "output_type": "error",
          "ename": "SyntaxError",
          "evalue": "ignored",
          "traceback": [
            "\u001b[0;36m  File \u001b[0;32m\"<ipython-input-5-725cdbbcbb9b>\"\u001b[0;36m, line \u001b[0;32m1\u001b[0m\n\u001b[0;31m    train_loader = DataLoader(datasets.MNIST('../data', train =True, download = True)\u001b[0m\n\u001b[0m                                                                                     ^\u001b[0m\n\u001b[0;31mSyntaxError\u001b[0m\u001b[0;31m:\u001b[0m unexpected EOF while parsing\n"
          ]
        }
      ]
    },
    {
      "cell_type": "code",
      "metadata": {
        "id": "wMO0fGTRH7Lp",
        "colab_type": "code",
        "colab": {}
      },
      "source": [
        "help(DataLoader)"
      ],
      "execution_count": 0,
      "outputs": []
    },
    {
      "cell_type": "code",
      "metadata": {
        "id": "-Ut2wtJvhWqZ",
        "colab_type": "code",
        "colab": {}
      },
      "source": [
        "\n"
      ],
      "execution_count": 0,
      "outputs": []
    },
    {
      "cell_type": "code",
      "metadata": {
        "id": "dsB1DsaHhWt7",
        "colab_type": "code",
        "colab": {}
      },
      "source": [
        ""
      ],
      "execution_count": 0,
      "outputs": []
    },
    {
      "cell_type": "code",
      "metadata": {
        "id": "DkwS9OHJ7SRM",
        "colab_type": "code",
        "colab": {
          "base_uri": "https://localhost:8080/",
          "height": 72
        },
        "outputId": "1cee7b33-2a0c-47b5-d27b-3f0b669922ec"
      },
      "source": [
        ""
      ],
      "execution_count": 98,
      "outputs": [
        {
          "output_type": "execute_result",
          "data": {
            "text/plain": [
              "tensor([[ 0.1336,  0.0536,  0.6557, -0.1681, -1.4346],\n",
              "        [ 0.1843, -1.1843, -0.6707,  0.8557, -0.1139],\n",
              "        [ 0.8924, -0.4215,  0.1995, -0.7034, -1.2290]])"
            ]
          },
          "metadata": {
            "tags": []
          },
          "execution_count": 98
        }
      ]
    },
    {
      "cell_type": "code",
      "metadata": {
        "id": "omMfqNhChVos",
        "colab_type": "code",
        "colab": {
          "base_uri": "https://localhost:8080/",
          "height": 35
        },
        "outputId": "d593adbc-762b-4fdb-b2ea-6eb67b465ef5"
      },
      "source": [
        ""
      ],
      "execution_count": 67,
      "outputs": [
        {
          "output_type": "stream",
          "text": [
            "output:  tensor(1.9136, grad_fn=<NllLossBackward>)\n"
          ],
          "name": "stdout"
        }
      ]
    },
    {
      "cell_type": "markdown",
      "metadata": {
        "id": "lZnkgnE6ZaVF",
        "colab_type": "text"
      },
      "source": [
        "M_NIST Data Loader : train and test"
      ]
    },
    {
      "cell_type": "code",
      "metadata": {
        "id": "-6VniumIXWGJ",
        "colab_type": "code",
        "colab": {}
      },
      "source": [
        "train_data = DataLoader()"
      ],
      "execution_count": 0,
      "outputs": []
    },
    {
      "cell_type": "markdown",
      "metadata": {
        "id": "WcczcQABaaoP",
        "colab_type": "text"
      },
      "source": [
        "Model"
      ]
    },
    {
      "cell_type": "code",
      "metadata": {
        "id": "1AuSLshkafQH",
        "colab_type": "code",
        "colab": {}
      },
      "source": [
        ""
      ],
      "execution_count": 0,
      "outputs": []
    },
    {
      "cell_type": "code",
      "metadata": {
        "id": "7BfDXsm_a3JU",
        "colab_type": "code",
        "colab": {}
      },
      "source": [
        ""
      ],
      "execution_count": 0,
      "outputs": []
    },
    {
      "cell_type": "markdown",
      "metadata": {
        "id": "1_DBj0p9agGO",
        "colab_type": "text"
      },
      "source": [
        "Citerian and optimizer\n"
      ]
    },
    {
      "cell_type": "code",
      "metadata": {
        "id": "C3DoztDaatau",
        "colab_type": "code",
        "colab": {}
      },
      "source": [
        ""
      ],
      "execution_count": 0,
      "outputs": []
    },
    {
      "cell_type": "markdown",
      "metadata": {
        "id": "PgP4B2X9auku",
        "colab_type": "text"
      },
      "source": [
        "Training"
      ]
    },
    {
      "cell_type": "code",
      "metadata": {
        "id": "qqFxmkA-axx7",
        "colab_type": "code",
        "colab": {}
      },
      "source": [
        ""
      ],
      "execution_count": 0,
      "outputs": []
    },
    {
      "cell_type": "markdown",
      "metadata": {
        "id": "3Kl5VGgZawnD",
        "colab_type": "text"
      },
      "source": [
        "Testing"
      ]
    }
  ]
}
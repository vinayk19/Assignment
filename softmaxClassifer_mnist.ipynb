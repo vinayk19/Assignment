{
  "nbformat": 4,
  "nbformat_minor": 0,
  "metadata": {
    "colab": {
      "name": "softmaxClassifer_mnist.ipynb",
      "provenance": [],
      "toc_visible": true,
      "authorship_tag": "ABX9TyP4aEMnY0iAe/tc/GxBrPcc",
      "include_colab_link": true
    },
    "kernelspec": {
      "name": "python3",
      "display_name": "Python 3"
    }
  },
  "cells": [
    {
      "cell_type": "markdown",
      "metadata": {
        "id": "view-in-github",
        "colab_type": "text"
      },
      "source": [
        "<a href=\"https://colab.research.google.com/github/vinayk19/Assignment/blob/master/softmaxClassifer_mnist.ipynb\" target=\"_parent\"><img src=\"https://colab.research.google.com/assets/colab-badge.svg\" alt=\"Open In Colab\"/></a>"
      ]
    },
    {
      "cell_type": "markdown",
      "metadata": {
        "id": "q-RiRjfbXie1",
        "colab_type": "text"
      },
      "source": [
        ""
      ]
    },
    {
      "cell_type": "markdown",
      "metadata": {
        "id": "wGkow6nLXmul",
        "colab_type": "text"
      },
      "source": [
        "Softmax : it will bring out there probability (Y_pred) after logit(z:output: ax+b). then loss function is used to calculate between probalility (Y_Pred) and real 1-hot encoded output (Y)\n",
        "loss= -YlogY_pred  \n",
        "some times in pytorch loss function has inbuilt softmax function. ie crossEntropy (z, Y) it needs Z and Y not Y_pred & Y."
      ]
    },
    {
      "cell_type": "code",
      "metadata": {
        "id": "ActWOvpBXUDh",
        "colab_type": "code",
        "colab": {}
      },
      "source": [
        ""
      ],
      "execution_count": 0,
      "outputs": []
    },
    {
      "cell_type": "code",
      "metadata": {
        "id": "-6VniumIXWGJ",
        "colab_type": "code",
        "colab": {}
      },
      "source": [
        ""
      ],
      "execution_count": 0,
      "outputs": []
    }
  ]
}
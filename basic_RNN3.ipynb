{
  "nbformat": 4,
  "nbformat_minor": 0,
  "metadata": {
    "colab": {
      "name": "basic_RNN3.ipynb",
      "provenance": [],
      "authorship_tag": "ABX9TyOkWAL7bGXCIQJc7ZzCZatK",
      "include_colab_link": true
    },
    "kernelspec": {
      "name": "python3",
      "display_name": "Python 3"
    }
  },
  "cells": [
    {
      "cell_type": "markdown",
      "metadata": {
        "id": "view-in-github",
        "colab_type": "text"
      },
      "source": [
        "<a href=\"https://colab.research.google.com/github/vinayk19/Assignment/blob/master/basic_RNN3.ipynb\" target=\"_parent\"><img src=\"https://colab.research.google.com/assets/colab-badge.svg\" alt=\"Open In Colab\"/></a>"
      ]
    },
    {
      "cell_type": "code",
      "metadata": {
        "id": "jBe4s18qAkXS",
        "colab_type": "code",
        "colab": {}
      },
      "source": [
        "import torch\n",
        "import torch.nn as nn\n",
        "# from torch.autograd as Variable\n",
        "from torch.autograd import Variable\n",
        "import torch.autograd\n"
      ],
      "execution_count": 1,
      "outputs": []
    },
    {
      "cell_type": "code",
      "metadata": {
        "id": "32k1V1tnAyDv",
        "colab_type": "code",
        "colab": {}
      },
      "source": [
        "h = [1,0,0,0]\n",
        "e = [0,1,0,0]\n",
        "l = [0,0,1,0]\n",
        "o = [0,0,0,1]\n",
        "h1 = torch.Tensor([[9,0,0,0]])"
      ],
      "execution_count": 2,
      "outputs": []
    },
    {
      "cell_type": "markdown",
      "metadata": {
        "id": "iipHeMyr8kcy",
        "colab_type": "text"
      },
      "source": [
        "1. only one character as input and other 2 output will be there"
      ]
    },
    {
      "cell_type": "code",
      "metadata": {
        "id": "Q1IqjPN4wexN",
        "colab_type": "code",
        "colab": {}
      },
      "source": [
        "cell = nn.RNN(input_size = 4, hidden_size =2 , batch_first = True) "
      ],
      "execution_count": 3,
      "outputs": []
    },
    {
      "cell_type": "code",
      "metadata": {
        "id": "gz_vKVGz2zA-",
        "colab_type": "code",
        "colab": {
          "base_uri": "https://localhost:8080/",
          "height": 35
        },
        "outputId": "ef6a81be-7cf9-4e30-f1da-a68d501d2fac"
      },
      "source": [
        "h1 = torch.Tensor([[h]])\n",
        "h1.shape"
      ],
      "execution_count": 4,
      "outputs": [
        {
          "output_type": "execute_result",
          "data": {
            "text/plain": [
              "torch.Size([1, 1, 4])"
            ]
          },
          "metadata": {
            "tags": []
          },
          "execution_count": 4
        }
      ]
    },
    {
      "cell_type": "code",
      "metadata": {
        "id": "074pjLUX39Rf",
        "colab_type": "code",
        "colab": {
          "base_uri": "https://localhost:8080/",
          "height": 35
        },
        "outputId": "977a37ae-aca4-4125-9528-77bb89c17eb1"
      },
      "source": [
        "input = Variable(h1)\n",
        "input.shape"
      ],
      "execution_count": 5,
      "outputs": [
        {
          "output_type": "execute_result",
          "data": {
            "text/plain": [
              "torch.Size([1, 1, 4])"
            ]
          },
          "metadata": {
            "tags": []
          },
          "execution_count": 5
        }
      ]
    },
    {
      "cell_type": "code",
      "metadata": {
        "id": "F90sV-CGwfPB",
        "colab_type": "code",
        "colab": {
          "base_uri": "https://localhost:8080/",
          "height": 35
        },
        "outputId": "9ddc7d84-fdba-4625-cf71-44a8ba4fa892"
      },
      "source": [
        "#h_0=(num_dir*num_layer, batch, hidden_size or output)\n",
        "h_0 = Variable(torch.randn(1,1,2))\n",
        "h_0.shape"
      ],
      "execution_count": 6,
      "outputs": [
        {
          "output_type": "execute_result",
          "data": {
            "text/plain": [
              "torch.Size([1, 1, 2])"
            ]
          },
          "metadata": {
            "tags": []
          },
          "execution_count": 6
        }
      ]
    },
    {
      "cell_type": "code",
      "metadata": {
        "id": "ba9YD9p1wfcV",
        "colab_type": "code",
        "colab": {
          "base_uri": "https://localhost:8080/",
          "height": 35
        },
        "outputId": "6c520a53-46c5-4b11-9037-0dbf2b4e1256"
      },
      "source": [
        "out, h_n = cell(input, h_0)\n",
        "print(\"out shape\", out.shape, \"h_n shape\", h_n.shape, \"out value\", out.data)"
      ],
      "execution_count": 7,
      "outputs": [
        {
          "output_type": "stream",
          "text": [
            "out shape torch.Size([1, 1, 2]) h_n shape torch.Size([1, 1, 2]) out value tensor([[[-0.5658,  0.0499]]])\n"
          ],
          "name": "stdout"
        }
      ]
    },
    {
      "cell_type": "markdown",
      "metadata": {
        "id": "-ApfLreI-0MN",
        "colab_type": "text"
      },
      "source": [
        "2 .increasing sequence lenth to 5 (still 1 character in and 2 ch out)"
      ]
    },
    {
      "cell_type": "code",
      "metadata": {
        "id": "dQhrAXTM-zqN",
        "colab_type": "code",
        "colab": {
          "base_uri": "https://localhost:8080/",
          "height": 35
        },
        "outputId": "b683132b-43bb-4244-ca4f-bbf9e3cf27a5"
      },
      "source": [
        "input = Variable(torch.Tensor([[h,e,l,l,o]]))\n",
        "input.shape #torch.Size([1, 5, 4]) batch, seq_len=5, input_size or dime =4"
      ],
      "execution_count": 8,
      "outputs": [
        {
          "output_type": "execute_result",
          "data": {
            "text/plain": [
              "torch.Size([1, 5, 4])"
            ]
          },
          "metadata": {
            "tags": []
          },
          "execution_count": 8
        }
      ]
    },
    {
      "cell_type": "code",
      "metadata": {
        "id": "pElXWgqk_gJU",
        "colab_type": "code",
        "colab": {
          "base_uri": "https://localhost:8080/",
          "height": 35
        },
        "outputId": "1c1014c4-73fa-4a62-90b8-7cbc21e63779"
      },
      "source": [
        "#h_0=(num_dir*num_layer, batch, hidden_size or output =2) (same as old)\n",
        "h_0 = Variable(torch.randn(1,1,2))\n",
        "h_0.shape"
      ],
      "execution_count": 9,
      "outputs": [
        {
          "output_type": "execute_result",
          "data": {
            "text/plain": [
              "torch.Size([1, 1, 2])"
            ]
          },
          "metadata": {
            "tags": []
          },
          "execution_count": 9
        }
      ]
    },
    {
      "cell_type": "code",
      "metadata": {
        "id": "spoJXbxJ_f-H",
        "colab_type": "code",
        "colab": {
          "base_uri": "https://localhost:8080/",
          "height": 108
        },
        "outputId": "a7eb9095-3a84-4f7b-ec06-5aac910f118e"
      },
      "source": [
        "out, h_n = cell(input, h_0)\n",
        "print(\"out shape\", out.shape, \"h_n shape\", h_n.shape, \"out value\", out.data)"
      ],
      "execution_count": 10,
      "outputs": [
        {
          "output_type": "stream",
          "text": [
            "out shape torch.Size([1, 5, 2]) h_n shape torch.Size([1, 1, 2]) out value tensor([[[-0.8772,  0.8318],\n",
            "         [-0.6335,  0.2881],\n",
            "         [-0.7728, -0.0156],\n",
            "         [-0.8138,  0.1857],\n",
            "         [-0.7825,  0.2747]]])\n"
          ],
          "name": "stdout"
        }
      ]
    },
    {
      "cell_type": "markdown",
      "metadata": {
        "id": "0Ll_EAOHAH-U",
        "colab_type": "text"
      },
      "source": [
        "3. increseing bacht size to 3 ( only input change)   \n",
        "\n",
        "outout (2) and cell ramain same"
      ]
    },
    {
      "cell_type": "code",
      "metadata": {
        "id": "7Ej0Mey9AHN1",
        "colab_type": "code",
        "colab": {
          "base_uri": "https://localhost:8080/",
          "height": 35
        },
        "outputId": "96228318-7f90-45ac-f94c-da15c7056b53"
      },
      "source": [
        "input = Variable(torch.Tensor([[h,e,l,l,o], [e,l,l,o,h], [l,l,o,h,e] ]))\n",
        "input.shape #torch.Size([1, 5, 4]) batch, seq_len=5, input_size or dime =4"
      ],
      "execution_count": 11,
      "outputs": [
        {
          "output_type": "execute_result",
          "data": {
            "text/plain": [
              "torch.Size([3, 5, 4])"
            ]
          },
          "metadata": {
            "tags": []
          },
          "execution_count": 11
        }
      ]
    },
    {
      "cell_type": "code",
      "metadata": {
        "id": "yjYNKlCsAv8m",
        "colab_type": "code",
        "colab": {
          "base_uri": "https://localhost:8080/",
          "height": 35
        },
        "outputId": "8244b406-57c6-485e-e203-3d09cdaba9ac"
      },
      "source": [
        "#h_0=(num_dir*num_layer, batch, hidden_size or output =2) (same as old)\n",
        "h_0 = Variable(torch.randn(1,3,2))\n",
        "h_0.shape"
      ],
      "execution_count": 12,
      "outputs": [
        {
          "output_type": "execute_result",
          "data": {
            "text/plain": [
              "torch.Size([1, 3, 2])"
            ]
          },
          "metadata": {
            "tags": []
          },
          "execution_count": 12
        }
      ]
    },
    {
      "cell_type": "code",
      "metadata": {
        "id": "KQbsAgZlAwTI",
        "colab_type": "code",
        "colab": {
          "base_uri": "https://localhost:8080/",
          "height": 326
        },
        "outputId": "f433d4ff-f688-4e3c-8864-a97bb1ea9aad"
      },
      "source": [
        "out, h_n = cell(input, h_0)\n",
        "print(\"out shape\", out.shape, \"h_n shape\", h_n.shape, \"out value\", out.data)"
      ],
      "execution_count": 13,
      "outputs": [
        {
          "output_type": "stream",
          "text": [
            "out shape torch.Size([3, 5, 2]) h_n shape torch.Size([1, 3, 2]) out value tensor([[[-0.8800,  0.9310],\n",
            "         [-0.6135,  0.2243],\n",
            "         [-0.7807,  0.0289],\n",
            "         [-0.8089,  0.1557],\n",
            "         [-0.7862,  0.2937]],\n",
            "\n",
            "        [[-0.4476, -0.0400],\n",
            "         [-0.8087,  0.2132],\n",
            "         [-0.7874,  0.0294],\n",
            "         [-0.8011,  0.3715],\n",
            "         [-0.7609,  0.4571]],\n",
            "\n",
            "        [[-0.6621, -0.2585],\n",
            "         [-0.8369,  0.3441],\n",
            "         [-0.7619,  0.1705],\n",
            "         [-0.7866,  0.5602],\n",
            "         [-0.6811,  0.4513]]])\n"
          ],
          "name": "stdout"
        }
      ]
    },
    {
      "cell_type": "markdown",
      "metadata": {
        "id": "dt_HPPvLH-2g",
        "colab_type": "text"
      },
      "source": [
        "**4_1/** now predicting next character. inpuit at hihell and output as ihello (**only first character then get loss function here**"
      ]
    },
    {
      "cell_type": "code",
      "metadata": {
        "id": "sBV8E4E2IymR",
        "colab_type": "code",
        "colab": {}
      },
      "source": [
        "h = [1,0,0,0,0]\n",
        "i = [0,1,0,0,0]\n",
        "e = [0,0,1,0,0]\n",
        "l = [0,0,0,1,0]\n",
        "o = [0,0,0,0,1]\n",
        "HH = [h,i, h, e, l, l]\n",
        "yy = [i, h, e, l, l, o]"
      ],
      "execution_count": 14,
      "outputs": []
    },
    {
      "cell_type": "code",
      "metadata": {
        "id": "w7WMMahaIyiV",
        "colab_type": "code",
        "colab": {
          "base_uri": "https://localhost:8080/",
          "height": 35
        },
        "outputId": "8dfdb637-d2d3-4a95-86f9-9ec45ae7eaa0"
      },
      "source": [
        "input = Variable(torch.Tensor([HH])) #torch.Size([1, 6, 5]) batch, seq_len=? , input_size or dime =?:  Note seq should be 6(as 6 character are going in) and input size (dim) = 5(1,0,0,0,0)\n",
        "\n",
        "print(input.shape)"
      ],
      "execution_count": 15,
      "outputs": [
        {
          "output_type": "stream",
          "text": [
            "torch.Size([1, 6, 5])\n"
          ],
          "name": "stdout"
        }
      ]
    },
    {
      "cell_type": "code",
      "metadata": {
        "id": "Bb03pgdpRPXQ",
        "colab_type": "code",
        "colab": {
          "base_uri": "https://localhost:8080/",
          "height": 35
        },
        "outputId": "c163c13c-abba-47e1-f1a5-d63b185561cd"
      },
      "source": [
        "h_o = Variable(torch.randn(1, 1, 5))#h_0=(num_dir*num_layer, batch, hidden_size or output =5) \n",
        "h_o.shape"
      ],
      "execution_count": 16,
      "outputs": [
        {
          "output_type": "execute_result",
          "data": {
            "text/plain": [
              "torch.Size([1, 1, 5])"
            ]
          },
          "metadata": {
            "tags": []
          },
          "execution_count": 16
        }
      ]
    },
    {
      "cell_type": "code",
      "metadata": {
        "id": "4cB-i5SWIyem",
        "colab_type": "code",
        "colab": {
          "base_uri": "https://localhost:8080/",
          "height": 35
        },
        "outputId": "60f7c8dd-80d6-458f-97f4-c23783348817"
      },
      "source": [
        "output_final = Variable(torch.Tensor([yy]))\n",
        "output_final.shape"
      ],
      "execution_count": 17,
      "outputs": [
        {
          "output_type": "execute_result",
          "data": {
            "text/plain": [
              "torch.Size([1, 6, 5])"
            ]
          },
          "metadata": {
            "tags": []
          },
          "execution_count": 17
        }
      ]
    },
    {
      "cell_type": "code",
      "metadata": {
        "id": "fQCEPqx-IyUV",
        "colab_type": "code",
        "colab": {}
      },
      "source": [
        "cell = nn.RNN(input_size=5, hidden_size=5, batch_first=True)"
      ],
      "execution_count": 18,
      "outputs": []
    },
    {
      "cell_type": "code",
      "metadata": {
        "id": "YEcTRwD3NoFi",
        "colab_type": "code",
        "colab": {
          "base_uri": "https://localhost:8080/",
          "height": 126
        },
        "outputId": "44f011b0-1704-41d4-b9b6-ae9468cacc98"
      },
      "source": [
        "out, h_0 = cell(input, h_o)\n",
        "print(\"out shape\", out.shape, \"out type\", out.type, \"out value\", out.data, \"h_n shape\", h_n.shape)"
      ],
      "execution_count": 19,
      "outputs": [
        {
          "output_type": "stream",
          "text": [
            "out shape torch.Size([1, 6, 5]) out type <built-in method type of Tensor object at 0x7fdc015085a0> out value tensor([[[ 0.8003,  0.3341, -0.7618,  0.7587, -0.3375],\n",
            "         [-0.4493,  0.8603,  0.3869,  0.6478, -0.6592],\n",
            "         [ 0.2645,  0.6602, -0.7471,  0.4480, -0.8522],\n",
            "         [ 0.3637,  0.2855,  0.0618,  0.2982, -0.6919],\n",
            "         [-0.2480,  0.3778, -0.3244,  0.2623, -0.8060],\n",
            "         [-0.0494,  0.1734, -0.5455,  0.0930, -0.8828]]]) h_n shape torch.Size([1, 3, 2])\n"
          ],
          "name": "stdout"
        }
      ]
    },
    {
      "cell_type": "code",
      "metadata": {
        "id": "M3kX4UCDaex-",
        "colab_type": "code",
        "colab": {
          "base_uri": "https://localhost:8080/",
          "height": 35
        },
        "outputId": "02f6ea4a-e7b8-43a0-fdbc-39c770f41790"
      },
      "source": [
        "val, idx = out.max(1)\n",
        "print(\"value \", val, \"idx:\", idx)"
      ],
      "execution_count": 20,
      "outputs": [
        {
          "output_type": "stream",
          "text": [
            "value  tensor([[ 0.8003,  0.8603,  0.3869,  0.7587, -0.3375]], grad_fn=<MaxBackward0>) idx: tensor([[0, 1, 1, 0, 0]])\n"
          ],
          "name": "stdout"
        }
      ]
    },
    {
      "cell_type": "code",
      "metadata": {
        "id": "k1WDtNNWzp5C",
        "colab_type": "code",
        "colab": {
          "base_uri": "https://localhost:8080/",
          "height": 35
        },
        "outputId": "64e8fa93-a25c-44fd-de0f-f85e129e2b1e"
      },
      "source": [
        "print(\"idx data:\", idx.data, \"idx shape \", idx.data.shape)"
      ],
      "execution_count": 21,
      "outputs": [
        {
          "output_type": "stream",
          "text": [
            "idx data: tensor([[0, 1, 1, 0, 0]]) idx shape  torch.Size([1, 5])\n"
          ],
          "name": "stdout"
        }
      ]
    },
    {
      "cell_type": "code",
      "metadata": {
        "id": "AQ7nYQbM3udK",
        "colab_type": "code",
        "colab": {
          "base_uri": "https://localhost:8080/",
          "height": 35
        },
        "outputId": "509be180-212b-4749-e4ec-bc7752996b21"
      },
      "source": [
        "print(\"idx data:\", idx.data[0], \"idx shape \", idx.data[0].shape)"
      ],
      "execution_count": 22,
      "outputs": [
        {
          "output_type": "stream",
          "text": [
            "idx data: tensor([0, 1, 1, 0, 0]) idx shape  torch.Size([5])\n"
          ],
          "name": "stdout"
        }
      ]
    },
    {
      "cell_type": "code",
      "metadata": {
        "id": "QsLHhkxA2Sq2",
        "colab_type": "code",
        "colab": {
          "base_uri": "https://localhost:8080/",
          "height": 35
        },
        "outputId": "b9b4b585-0b55-4852-a5fc-959e7ed5bf39"
      },
      "source": [
        "idx.data[0].numpy()"
      ],
      "execution_count": 24,
      "outputs": [
        {
          "output_type": "execute_result",
          "data": {
            "text/plain": [
              "array([0, 1, 1, 0, 0])"
            ]
          },
          "metadata": {
            "tags": []
          },
          "execution_count": 24
        }
      ]
    },
    {
      "cell_type": "code",
      "metadata": {
        "id": "9Ud2QYwf1604",
        "colab_type": "code",
        "colab": {}
      },
      "source": [
        "idx2char=['h','i','e', 'l', 'o'] # "
      ],
      "execution_count": 25,
      "outputs": []
    },
    {
      "cell_type": "code",
      "metadata": {
        "id": "EPKnKRCW2Cma",
        "colab_type": "code",
        "colab": {
          "base_uri": "https://localhost:8080/",
          "height": 35
        },
        "outputId": "9de1b000-2c85-4641-edfb-e23f4ef62e84"
      },
      "source": [
        "idx2char[idx.data[0].numpy()[0]] # as idx data will take only scaler value so we need to convert it to int ie numpy"
      ],
      "execution_count": 26,
      "outputs": [
        {
          "output_type": "execute_result",
          "data": {
            "text/plain": [
              "'h'"
            ]
          },
          "metadata": {
            "tags": []
          },
          "execution_count": 26
        }
      ]
    },
    {
      "cell_type": "code",
      "metadata": {
        "id": "LUjEaTkhwqD5",
        "colab_type": "code",
        "colab": {
          "base_uri": "https://localhost:8080/",
          "height": 35
        },
        "outputId": "98c7225c-1bca-4789-d6d6-01bb9de20579"
      },
      "source": [
        "out2 = Variable(torch.LongTensor([h]))\n",
        "out2.shape"
      ],
      "execution_count": 27,
      "outputs": [
        {
          "output_type": "execute_result",
          "data": {
            "text/plain": [
              "torch.Size([1, 5])"
            ]
          },
          "metadata": {
            "tags": []
          },
          "execution_count": 27
        }
      ]
    },
    {
      "cell_type": "markdown",
      "metadata": {
        "id": "t8EE5isntqOw",
        "colab_type": "text"
      },
      "source": [
        "input is batch, seq_len"
      ]
    },
    {
      "cell_type": "code",
      "metadata": {
        "id": "OF1Rgv9vNogn",
        "colab_type": "code",
        "colab": {
          "base_uri": "https://localhost:8080/",
          "height": 35
        },
        "outputId": "9ea0fb8d-48b2-4443-eeaf-df7781b7794b"
      },
      "source": [
        "criterion = nn.CrossEntropyLoss()\n",
        "loss = 0 \n",
        "# for i in range (6): #@ seq len =6 as 6 charecter are copmming in\n",
        "loss += criterion(out, out2) # learning : 1. out2 needs a longTnesor. 2. it needs a scaler value not 2d etc (1,5)\n",
        "print(loss)"
      ],
      "execution_count": 28,
      "outputs": [
        {
          "output_type": "stream",
          "text": [
            "tensor(1.9247, grad_fn=<AddBackward0>)\n"
          ],
          "name": "stdout"
        }
      ]
    },
    {
      "cell_type": "markdown",
      "metadata": {
        "id": "O9vMJOwcanAb",
        "colab_type": "text"
      },
      "source": [
        "**4_2** now predicting next character. inpuit at hihell and output as ihello \n",
        " **all first character one by one** then get loss function here "
      ]
    },
    {
      "cell_type": "code",
      "metadata": {
        "id": "iVbIm0FmyEap",
        "colab_type": "code",
        "colab": {}
      },
      "source": [
        "idx2char=['h','i','e', 'l', 'o']\n",
        "# h = [1,0,0,0,0]\n",
        "# i = [0,1,0,0,0]\n",
        "# e = [0,0,1,0,0]\n",
        "# l = [0,0,0,1,0]\n",
        "# o = [0,0,0,0,1]\n",
        "one_hot_lookup = [[1,0,0,0,0], #0 \n",
        "                  [0,1,0,0,0], #1\n",
        "                  [0,0,1,0,0], #2\n",
        "                  [0,0,0,1,0], #3\n",
        "                  [0,0,0,0,1]] #4\n",
        "x_data =[0, 1, 0, 2, 3, 3] # hihell\n",
        "\n",
        "y_data =[1, 0, 2, 3, 3, 4] # ihello\n"
      ],
      "execution_count": 29,
      "outputs": []
    },
    {
      "cell_type": "code",
      "metadata": {
        "id": "-qx4paIw7FGx",
        "colab_type": "code",
        "colab": {}
      },
      "source": [
        "y_data =[[1], [0], [2], [3], [3], [4]] # ihello\n",
        "# y_data =[1, 0, 2, 3, 3, 4] # ihello"
      ],
      "execution_count": 30,
      "outputs": []
    },
    {
      "cell_type": "code",
      "metadata": {
        "id": "tFrfsVG9jjUI",
        "colab_type": "code",
        "colab": {}
      },
      "source": [
        "x_one_hot = [one_hot_lookup[x] for x in x_data]"
      ],
      "execution_count": 31,
      "outputs": []
    },
    {
      "cell_type": "code",
      "metadata": {
        "id": "p3279jjGkAv6",
        "colab_type": "code",
        "colab": {
          "base_uri": "https://localhost:8080/",
          "height": 126
        },
        "outputId": "e0530032-8075-421d-ed04-ace133a1acc0"
      },
      "source": [
        "x_one_hot"
      ],
      "execution_count": 32,
      "outputs": [
        {
          "output_type": "execute_result",
          "data": {
            "text/plain": [
              "[[1, 0, 0, 0, 0],\n",
              " [0, 1, 0, 0, 0],\n",
              " [1, 0, 0, 0, 0],\n",
              " [0, 0, 1, 0, 0],\n",
              " [0, 0, 0, 1, 0],\n",
              " [0, 0, 0, 1, 0]]"
            ]
          },
          "metadata": {
            "tags": []
          },
          "execution_count": 32
        }
      ]
    },
    {
      "cell_type": "code",
      "metadata": {
        "id": "pqTHj70JkB3b",
        "colab_type": "code",
        "colab": {}
      },
      "source": [
        "inputs = Variable(torch.Tensor(x_one_hot))\n",
        "labels = Variable(torch.LongTensor(y_data))\n"
      ],
      "execution_count": 33,
      "outputs": []
    },
    {
      "cell_type": "code",
      "metadata": {
        "id": "okNIlXSKp4VF",
        "colab_type": "code",
        "colab": {
          "base_uri": "https://localhost:8080/",
          "height": 217
        },
        "outputId": "877890ae-627e-42b8-9a90-73de85eefb73"
      },
      "source": [
        "print(labels, inputs)"
      ],
      "execution_count": 34,
      "outputs": [
        {
          "output_type": "stream",
          "text": [
            "tensor([[1],\n",
            "        [0],\n",
            "        [2],\n",
            "        [3],\n",
            "        [3],\n",
            "        [4]]) tensor([[1., 0., 0., 0., 0.],\n",
            "        [0., 1., 0., 0., 0.],\n",
            "        [1., 0., 0., 0., 0.],\n",
            "        [0., 0., 1., 0., 0.],\n",
            "        [0., 0., 0., 1., 0.],\n",
            "        [0., 0., 0., 1., 0.]])\n"
          ],
          "name": "stdout"
        }
      ]
    },
    {
      "cell_type": "code",
      "metadata": {
        "id": "rkRL3lAxji9F",
        "colab_type": "code",
        "colab": {}
      },
      "source": [
        "#  inputs = Variable(torch.Tensor(x))"
      ],
      "execution_count": 35,
      "outputs": []
    },
    {
      "cell_type": "code",
      "metadata": {
        "id": "jOv3dZ1UjjhV",
        "colab_type": "code",
        "colab": {}
      },
      "source": [
        "num_classes =5 # non RNN parameter twll how many classes here\n",
        "input_size= 5 # no if input dimenitons\n",
        "seq_len = 1 # as 1 characterr are going in at once for 6 times\n",
        "hiddenO = 5 # output dimention\n",
        "batch =  1 \n",
        "num_dir =1\n",
        "num_layer =1"
      ],
      "execution_count": 36,
      "outputs": []
    },
    {
      "cell_type": "code",
      "metadata": {
        "id": "pr5zXnzkrcAj",
        "colab_type": "code",
        "colab": {}
      },
      "source": [
        "class net(nn.Module):\n",
        "  def __init__(self):\n",
        "    super(net, self).__init__()\n",
        "\n",
        "    self.input_size = 5\n",
        "    self.hiddenO = 5\n",
        "    self.seq_len = 1\n",
        "    self.batch = 1\n",
        "    self.num_classes = 5\n",
        "    self.num_direction = 1\n",
        "    self.num_layer =1\n",
        "\n",
        "    self.cell = nn.RNN(input_size = self.input_size, hidden_size=self.hiddenO, batch_first=True)\n",
        "\n",
        "  def forward(self, input, h_O):\n",
        "    \n",
        "    input = input.view(self.batch, self.seq_len, self.input_size)\n",
        "\n",
        "    out, h_n = self.cell(input, h_O)\n",
        "    out = out.view(-1, self.num_classes) # to flatten to get the classes\n",
        "\n",
        "    return out, h_n\n",
        "  \n",
        "  def init_hidden(self):\n",
        "    return Variable(torch.zeros(self.num_direction*self.num_layer, self.batch, self.hiddenO))"
      ],
      "execution_count": 37,
      "outputs": []
    },
    {
      "cell_type": "code",
      "metadata": {
        "id": "DR5jAKumrb83",
        "colab_type": "code",
        "colab": {}
      },
      "source": [
        "model = net()"
      ],
      "execution_count": 38,
      "outputs": []
    },
    {
      "cell_type": "code",
      "metadata": {
        "id": "sSVE0jAt55fe",
        "colab_type": "code",
        "colab": {
          "base_uri": "https://localhost:8080/",
          "height": 35
        },
        "outputId": "de642f0d-bfca-4cd1-9d70-ce068a6748a5"
      },
      "source": [
        "labels[0].shape\n",
        "inputs[0]"
      ],
      "execution_count": 39,
      "outputs": [
        {
          "output_type": "execute_result",
          "data": {
            "text/plain": [
              "tensor([1., 0., 0., 0., 0.])"
            ]
          },
          "metadata": {
            "tags": []
          },
          "execution_count": 39
        }
      ]
    },
    {
      "cell_type": "code",
      "metadata": {
        "id": "vvEr6sV3rb5f",
        "colab_type": "code",
        "colab": {}
      },
      "source": [
        "# criterion = nn.CrossEntropyLoss()\n",
        "# optimizer = torch.optim.Adam(model.parameters(), lr = .1)"
      ],
      "execution_count": 40,
      "outputs": []
    },
    {
      "cell_type": "markdown",
      "metadata": {
        "id": "XNyzC0m3yh9r",
        "colab_type": "text"
      },
      "source": [
        "Training "
      ]
    },
    {
      "cell_type": "code",
      "metadata": {
        "id": "TrK6G_1UydTq",
        "colab_type": "code",
        "colab": {
          "base_uri": "https://localhost:8080/",
          "height": 1000
        },
        "outputId": "8f512e04-e3ae-47ad-8380-3493d8c5d4ab"
      },
      "source": [
        "criterion = nn.CrossEntropyLoss()\n",
        "optimizer = torch.optim.Adam(model.parameters(), lr = .1)\n",
        "\n",
        "for epoch in range (50):\n",
        "  loss = 0\n",
        "  hidden = model.init_hidden() # learning\n",
        "  # sys.stdout.write(\"Predictedd string: \")\n",
        "  result_new = \"\"\n",
        "  for input, label in zip(inputs, labels): #learning # zip\n",
        "    # print(\"input_size\", input.size(), \"lables\", label.size())\n",
        "    out, hidden = model(input, hidden)\n",
        "    val, idx = out.max(1) # learning it provides max values in each column and its index\n",
        "    # sys.stdout.write(idx2char[idx.data[0]]) # learning try to predict out output\n",
        "    # print(\"idx data,\", idx.data[0])\n",
        "    loss += criterion(out, label)\n",
        "    idx = idx.data.numpy()\n",
        "    result_str = [idx2char[c][0] for c in idx]\n",
        "    # print(\"result_str_size\", result_str, \"result_str type\", type(result_str))\n",
        "    # result_new = result_strp.join(result_str)\n",
        "    # result_new = result_strp + result_str[0]\n",
        "    result_new = result_new + result_str[0]\n",
        "    # result_new = result_new.join(result_str[0])\n",
        "    # print(\"result_new\", result_new)\n",
        "    # print(\"result_strp\", result_strp, '\\n')\n",
        "\n",
        "    \n",
        "  print (\"result str:\", result_new)\n",
        "  \n",
        "\n",
        "  loss.backward()\n",
        "  optimizer.step()\n",
        "  print(\"Epoch: %d, loss: %1.3f\" % (epoch +1, loss.data) )"
      ],
      "execution_count": 54,
      "outputs": [
        {
          "output_type": "stream",
          "text": [
            "result str: oooooo\n",
            "Epoch: 1, loss: 7.814\n",
            "result str: oooooo\n",
            "Epoch: 2, loss: 7.814\n",
            "result str: oooooo\n",
            "Epoch: 3, loss: 7.814\n",
            "result str: oooooo\n",
            "Epoch: 4, loss: 7.814\n",
            "result str: oooooo\n",
            "Epoch: 5, loss: 7.814\n",
            "result str: oooooo\n",
            "Epoch: 6, loss: 7.814\n",
            "result str: oooooo\n",
            "Epoch: 7, loss: 7.814\n",
            "result str: oooooo\n",
            "Epoch: 8, loss: 7.814\n",
            "result str: oooooo\n",
            "Epoch: 9, loss: 7.814\n",
            "result str: oooooo\n",
            "Epoch: 10, loss: 7.814\n",
            "result str: oooooo\n",
            "Epoch: 11, loss: 7.814\n",
            "result str: oooooo\n",
            "Epoch: 12, loss: 7.814\n",
            "result str: oooooo\n",
            "Epoch: 13, loss: 7.814\n",
            "result str: oooooo\n",
            "Epoch: 14, loss: 7.814\n",
            "result str: oooooo\n",
            "Epoch: 15, loss: 7.814\n",
            "result str: oooooo\n",
            "Epoch: 16, loss: 7.814\n",
            "result str: oooooo\n",
            "Epoch: 17, loss: 7.814\n",
            "result str: oooooo\n",
            "Epoch: 18, loss: 7.814\n",
            "result str: oooooo\n",
            "Epoch: 19, loss: 7.814\n",
            "result str: oooooo\n",
            "Epoch: 20, loss: 7.814\n",
            "result str: oooooo\n",
            "Epoch: 21, loss: 7.814\n",
            "result str: oooooo\n",
            "Epoch: 22, loss: 7.814\n",
            "result str: oooooo\n",
            "Epoch: 23, loss: 7.814\n",
            "result str: oooooo\n",
            "Epoch: 24, loss: 7.814\n",
            "result str: oooooo\n",
            "Epoch: 25, loss: 7.814\n",
            "result str: oooooo\n",
            "Epoch: 26, loss: 7.814\n",
            "result str: oooooo\n",
            "Epoch: 27, loss: 7.814\n",
            "result str: oooooo\n",
            "Epoch: 28, loss: 7.814\n",
            "result str: oooooo\n",
            "Epoch: 29, loss: 7.814\n",
            "result str: oooooo\n",
            "Epoch: 30, loss: 7.814\n",
            "result str: oooooo\n",
            "Epoch: 31, loss: 7.814\n",
            "result str: oooooo\n",
            "Epoch: 32, loss: 7.814\n",
            "result str: oooooo\n",
            "Epoch: 33, loss: 7.814\n",
            "result str: oooooo\n",
            "Epoch: 34, loss: 7.814\n",
            "result str: oooooo\n",
            "Epoch: 35, loss: 7.814\n",
            "result str: oooooo\n",
            "Epoch: 36, loss: 7.814\n",
            "result str: oooooo\n",
            "Epoch: 37, loss: 7.814\n",
            "result str: oooooo\n",
            "Epoch: 38, loss: 7.814\n",
            "result str: oooooo\n",
            "Epoch: 39, loss: 7.814\n",
            "result str: oooooo\n",
            "Epoch: 40, loss: 7.814\n",
            "result str: oooooo\n",
            "Epoch: 41, loss: 7.814\n",
            "result str: oooooo\n",
            "Epoch: 42, loss: 7.814\n",
            "result str: oooooo\n",
            "Epoch: 43, loss: 7.814\n",
            "result str: oooooo\n",
            "Epoch: 44, loss: 7.814\n",
            "result str: oooooo\n",
            "Epoch: 45, loss: 7.814\n",
            "result str: oooooo\n",
            "Epoch: 46, loss: 7.814\n",
            "result str: oooooo\n",
            "Epoch: 47, loss: 7.814\n",
            "result str: oooooo\n",
            "Epoch: 48, loss: 7.814\n",
            "result str: oooooo\n",
            "Epoch: 49, loss: 7.814\n",
            "result str: oooooo\n",
            "Epoch: 50, loss: 7.814\n"
          ],
          "name": "stdout"
        }
      ]
    },
    {
      "cell_type": "code",
      "metadata": {
        "id": "_GAriX_Dy6E1",
        "colab_type": "code",
        "colab": {}
      },
      "source": [
        ""
      ],
      "execution_count": null,
      "outputs": []
    }
  ]
}
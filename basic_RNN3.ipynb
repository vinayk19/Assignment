{
  "nbformat": 4,
  "nbformat_minor": 0,
  "metadata": {
    "colab": {
      "name": "basic_RNN3.ipynb",
      "provenance": [],
      "authorship_tag": "ABX9TyMfkumaHmlThB55z9YAD8OX",
      "include_colab_link": true
    },
    "kernelspec": {
      "name": "python3",
      "display_name": "Python 3"
    }
  },
  "cells": [
    {
      "cell_type": "markdown",
      "metadata": {
        "id": "view-in-github",
        "colab_type": "text"
      },
      "source": [
        "<a href=\"https://colab.research.google.com/github/vinayk19/Assignment/blob/master/basic_RNN3.ipynb\" target=\"_parent\"><img src=\"https://colab.research.google.com/assets/colab-badge.svg\" alt=\"Open In Colab\"/></a>"
      ]
    },
    {
      "cell_type": "code",
      "metadata": {
        "id": "jBe4s18qAkXS",
        "colab_type": "code",
        "colab": {}
      },
      "source": [
        "import torch\n",
        "import torch.nn as nn\n",
        "# from torch.autograd as Variable\n",
        "from torch.autograd import Variable\n",
        "import torch.autograd\n"
      ],
      "execution_count": 1,
      "outputs": []
    },
    {
      "cell_type": "code",
      "metadata": {
        "id": "32k1V1tnAyDv",
        "colab_type": "code",
        "colab": {}
      },
      "source": [
        "h = [1,0,0,0]\n",
        "e = [0,1,0,0]\n",
        "l = [0,0,1,0]\n",
        "o = [0,0,0,1]\n",
        "h1 = torch.Tensor([[9,0,0,0]])"
      ],
      "execution_count": 2,
      "outputs": []
    },
    {
      "cell_type": "markdown",
      "metadata": {
        "id": "iipHeMyr8kcy",
        "colab_type": "text"
      },
      "source": [
        "1. only one character as input and other 2 output will be there"
      ]
    },
    {
      "cell_type": "code",
      "metadata": {
        "id": "Q1IqjPN4wexN",
        "colab_type": "code",
        "colab": {}
      },
      "source": [
        "cell = nn.RNN(input_size = 4, hidden_size =2 , batch_first = True) "
      ],
      "execution_count": 3,
      "outputs": []
    },
    {
      "cell_type": "code",
      "metadata": {
        "id": "gz_vKVGz2zA-",
        "colab_type": "code",
        "colab": {
          "base_uri": "https://localhost:8080/",
          "height": 35
        },
        "outputId": "c0ca3e47-eff5-4dfe-b79c-375d11f0a58c"
      },
      "source": [
        "h1 = torch.Tensor([[h]])\n",
        "h1.shape"
      ],
      "execution_count": 4,
      "outputs": [
        {
          "output_type": "execute_result",
          "data": {
            "text/plain": [
              "torch.Size([1, 1, 4])"
            ]
          },
          "metadata": {
            "tags": []
          },
          "execution_count": 4
        }
      ]
    },
    {
      "cell_type": "code",
      "metadata": {
        "id": "074pjLUX39Rf",
        "colab_type": "code",
        "colab": {
          "base_uri": "https://localhost:8080/",
          "height": 35
        },
        "outputId": "20ea9073-6f43-403f-a182-91be12b6f5d7"
      },
      "source": [
        "input = Variable(h1)\n",
        "input.shape"
      ],
      "execution_count": 5,
      "outputs": [
        {
          "output_type": "execute_result",
          "data": {
            "text/plain": [
              "torch.Size([1, 1, 4])"
            ]
          },
          "metadata": {
            "tags": []
          },
          "execution_count": 5
        }
      ]
    },
    {
      "cell_type": "code",
      "metadata": {
        "id": "F90sV-CGwfPB",
        "colab_type": "code",
        "colab": {
          "base_uri": "https://localhost:8080/",
          "height": 35
        },
        "outputId": "2e84a3bc-1e96-4354-f042-b8829a669ef7"
      },
      "source": [
        "#h_0=(num_dir*num_layer, batch, hidden_size or output)\n",
        "h_0 = Variable(torch.randn(1,1,2))\n",
        "h_0.shape"
      ],
      "execution_count": 6,
      "outputs": [
        {
          "output_type": "execute_result",
          "data": {
            "text/plain": [
              "torch.Size([1, 1, 2])"
            ]
          },
          "metadata": {
            "tags": []
          },
          "execution_count": 6
        }
      ]
    },
    {
      "cell_type": "code",
      "metadata": {
        "id": "ba9YD9p1wfcV",
        "colab_type": "code",
        "colab": {
          "base_uri": "https://localhost:8080/",
          "height": 35
        },
        "outputId": "37a82949-40ac-4826-b2ca-9bea48831f0a"
      },
      "source": [
        "out, h_n = cell(input, h_0)\n",
        "print(\"out shape\", out.shape, \"h_n shape\", h_n.shape, \"out value\", out.data)"
      ],
      "execution_count": 7,
      "outputs": [
        {
          "output_type": "stream",
          "text": [
            "out shape torch.Size([1, 1, 2]) h_n shape torch.Size([1, 1, 2]) out value tensor([[[ 0.8711, -0.5481]]])\n"
          ],
          "name": "stdout"
        }
      ]
    },
    {
      "cell_type": "markdown",
      "metadata": {
        "id": "-ApfLreI-0MN",
        "colab_type": "text"
      },
      "source": [
        "2 .increasing sequence lenth to 5 (still 1 character in and 2 ch out)"
      ]
    },
    {
      "cell_type": "code",
      "metadata": {
        "id": "dQhrAXTM-zqN",
        "colab_type": "code",
        "colab": {
          "base_uri": "https://localhost:8080/",
          "height": 35
        },
        "outputId": "8ab7da94-f00b-41dd-df0a-04f55215d357"
      },
      "source": [
        "input = Variable(torch.Tensor([[h,e,l,l,o]]))\n",
        "input.shape #torch.Size([1, 5, 4]) batch, seq_len=5, input_size or dime =4"
      ],
      "execution_count": 8,
      "outputs": [
        {
          "output_type": "execute_result",
          "data": {
            "text/plain": [
              "torch.Size([1, 5, 4])"
            ]
          },
          "metadata": {
            "tags": []
          },
          "execution_count": 8
        }
      ]
    },
    {
      "cell_type": "code",
      "metadata": {
        "id": "pElXWgqk_gJU",
        "colab_type": "code",
        "colab": {
          "base_uri": "https://localhost:8080/",
          "height": 35
        },
        "outputId": "3890bcab-e824-4690-9557-876b250cda9b"
      },
      "source": [
        "#h_0=(num_dir*num_layer, batch, hidden_size or output =2) (same as old)\n",
        "h_0 = Variable(torch.randn(1,1,2))\n",
        "h_0.shape"
      ],
      "execution_count": 9,
      "outputs": [
        {
          "output_type": "execute_result",
          "data": {
            "text/plain": [
              "torch.Size([1, 1, 2])"
            ]
          },
          "metadata": {
            "tags": []
          },
          "execution_count": 9
        }
      ]
    },
    {
      "cell_type": "code",
      "metadata": {
        "id": "spoJXbxJ_f-H",
        "colab_type": "code",
        "colab": {
          "base_uri": "https://localhost:8080/",
          "height": 108
        },
        "outputId": "2a52d234-4523-487a-f282-89112bfd4afd"
      },
      "source": [
        "out, h_n = cell(input, h_0)\n",
        "print(\"out shape\", out.shape, \"h_n shape\", h_n.shape, \"out value\", out.data)"
      ],
      "execution_count": 10,
      "outputs": [
        {
          "output_type": "stream",
          "text": [
            "out shape torch.Size([1, 5, 2]) h_n shape torch.Size([1, 1, 2]) out value tensor([[[ 0.9510, -0.8301],\n",
            "         [ 0.9222, -0.1680],\n",
            "         [ 0.2141, -0.6430],\n",
            "         [ 0.5227, -0.7640],\n",
            "         [ 0.8491, -0.8464]]])\n"
          ],
          "name": "stdout"
        }
      ]
    },
    {
      "cell_type": "markdown",
      "metadata": {
        "id": "0Ll_EAOHAH-U",
        "colab_type": "text"
      },
      "source": [
        "3. increseing bacht size to 3 ( only input change)   \n",
        "\n",
        "outout (2) and cell ramain same"
      ]
    },
    {
      "cell_type": "code",
      "metadata": {
        "id": "7Ej0Mey9AHN1",
        "colab_type": "code",
        "colab": {
          "base_uri": "https://localhost:8080/",
          "height": 35
        },
        "outputId": "ba22825d-02c9-4dd8-993c-c30e54159bd5"
      },
      "source": [
        "input = Variable(torch.Tensor([[h,e,l,l,o], [e,l,l,o,h], [l,l,o,h,e] ]))\n",
        "input.shape #torch.Size([1, 5, 4]) batch, seq_len=5, input_size or dime =4"
      ],
      "execution_count": 11,
      "outputs": [
        {
          "output_type": "execute_result",
          "data": {
            "text/plain": [
              "torch.Size([3, 5, 4])"
            ]
          },
          "metadata": {
            "tags": []
          },
          "execution_count": 11
        }
      ]
    },
    {
      "cell_type": "code",
      "metadata": {
        "id": "yjYNKlCsAv8m",
        "colab_type": "code",
        "colab": {
          "base_uri": "https://localhost:8080/",
          "height": 35
        },
        "outputId": "e0e7114c-1b3b-454d-ae63-ed12e8183541"
      },
      "source": [
        "#h_0=(num_dir*num_layer, batch, hidden_size or output =2) (same as old)\n",
        "h_0 = Variable(torch.randn(1,3,2))\n",
        "h_0.shape"
      ],
      "execution_count": 12,
      "outputs": [
        {
          "output_type": "execute_result",
          "data": {
            "text/plain": [
              "torch.Size([1, 3, 2])"
            ]
          },
          "metadata": {
            "tags": []
          },
          "execution_count": 12
        }
      ]
    },
    {
      "cell_type": "code",
      "metadata": {
        "id": "KQbsAgZlAwTI",
        "colab_type": "code",
        "colab": {
          "base_uri": "https://localhost:8080/",
          "height": 326
        },
        "outputId": "d51d6165-26ed-4b77-ee9a-675f3ce68d9f"
      },
      "source": [
        "out, h_n = cell(input, h_0)\n",
        "print(\"out shape\", out.shape, \"h_n shape\", h_n.shape, \"out value\", out.data)"
      ],
      "execution_count": 13,
      "outputs": [
        {
          "output_type": "stream",
          "text": [
            "out shape torch.Size([3, 5, 2]) h_n shape torch.Size([1, 3, 2]) out value tensor([[[ 0.9067, -0.3822],\n",
            "         [ 0.8838,  0.1336],\n",
            "         [ 0.0772, -0.5062],\n",
            "         [ 0.4920, -0.7163],\n",
            "         [ 0.8441, -0.8361]],\n",
            "\n",
            "        [[ 0.8667,  0.7018],\n",
            "         [-0.1941, -0.1742],\n",
            "         [ 0.4027, -0.5712],\n",
            "         [ 0.8277, -0.8011],\n",
            "         [ 0.9267, -0.7600]],\n",
            "\n",
            "        [[ 0.7424, -0.8905],\n",
            "         [ 0.5393, -0.8417],\n",
            "         [ 0.8585, -0.8609],\n",
            "         [ 0.9300, -0.7776],\n",
            "         [ 0.9189, -0.1316]]])\n"
          ],
          "name": "stdout"
        }
      ]
    },
    {
      "cell_type": "markdown",
      "metadata": {
        "id": "dt_HPPvLH-2g",
        "colab_type": "text"
      },
      "source": [
        "4_1/ now predicting next character. inpuit at hihell and output as ihello (only first character then get loss function here"
      ]
    },
    {
      "cell_type": "code",
      "metadata": {
        "id": "sBV8E4E2IymR",
        "colab_type": "code",
        "colab": {}
      },
      "source": [
        "h = [1,0,0,0,0]\n",
        "i = [0,1,0,0,0]\n",
        "e = [0,0,1,0,0]\n",
        "l = [0,0,0,1,0]\n",
        "o = [0,0,0,0,1]\n",
        "HH = [h,i, h, e, l, l]\n",
        "yy = [i, h, e, l, l, o]"
      ],
      "execution_count": 14,
      "outputs": []
    },
    {
      "cell_type": "code",
      "metadata": {
        "id": "w7WMMahaIyiV",
        "colab_type": "code",
        "colab": {
          "base_uri": "https://localhost:8080/",
          "height": 35
        },
        "outputId": "02db0d98-d213-409c-cd5d-becb20a3fcd2"
      },
      "source": [
        "input = Variable(torch.Tensor([HH])) #torch.Size([1, 6, 5]) batch, seq_len=? , input_size or dime =?:  Note seq should be 6(as 6 character are going in) and input size (dim) = 5(1,0,0,0,0)\n",
        "\n",
        "print(input.shape)"
      ],
      "execution_count": 15,
      "outputs": [
        {
          "output_type": "stream",
          "text": [
            "torch.Size([1, 6, 5])\n"
          ],
          "name": "stdout"
        }
      ]
    },
    {
      "cell_type": "code",
      "metadata": {
        "id": "Bb03pgdpRPXQ",
        "colab_type": "code",
        "colab": {
          "base_uri": "https://localhost:8080/",
          "height": 35
        },
        "outputId": "88d96446-e5ee-4d83-decd-f63b2112481a"
      },
      "source": [
        "h_o = Variable(torch.randn(1, 1, 5))#h_0=(num_dir*num_layer, batch, hidden_size or output =5) \n",
        "h_o.shape"
      ],
      "execution_count": 16,
      "outputs": [
        {
          "output_type": "execute_result",
          "data": {
            "text/plain": [
              "torch.Size([1, 1, 5])"
            ]
          },
          "metadata": {
            "tags": []
          },
          "execution_count": 16
        }
      ]
    },
    {
      "cell_type": "code",
      "metadata": {
        "id": "4cB-i5SWIyem",
        "colab_type": "code",
        "colab": {
          "base_uri": "https://localhost:8080/",
          "height": 35
        },
        "outputId": "e74c4aa0-55fe-46b7-9398-3763591e3c95"
      },
      "source": [
        "output_final = Variable(torch.Tensor([yy]))\n",
        "output_final.shape"
      ],
      "execution_count": 17,
      "outputs": [
        {
          "output_type": "execute_result",
          "data": {
            "text/plain": [
              "torch.Size([1, 6, 5])"
            ]
          },
          "metadata": {
            "tags": []
          },
          "execution_count": 17
        }
      ]
    },
    {
      "cell_type": "code",
      "metadata": {
        "id": "fQCEPqx-IyUV",
        "colab_type": "code",
        "colab": {}
      },
      "source": [
        "cell = nn.RNN(input_size=5, hidden_size=5, batch_first=True)"
      ],
      "execution_count": 18,
      "outputs": []
    },
    {
      "cell_type": "code",
      "metadata": {
        "id": "YEcTRwD3NoFi",
        "colab_type": "code",
        "colab": {
          "base_uri": "https://localhost:8080/",
          "height": 126
        },
        "outputId": "cd2ceec0-ee4f-4b2c-bfd7-33ce35c796b8"
      },
      "source": [
        "out, h_0 = cell(input, h_o)\n",
        "print(\"out shape\", out.shape, \"out type\", out.type, \"h_n shape\", h_n.shape, \"out value\", out.data)"
      ],
      "execution_count": 19,
      "outputs": [
        {
          "output_type": "stream",
          "text": [
            "out shape torch.Size([1, 6, 5]) out type <built-in method type of Tensor object at 0x7ff0714c6438> h_n shape torch.Size([1, 3, 2]) out value tensor([[[-0.8705,  0.0909, -0.9128,  0.2807,  0.4185],\n",
            "         [-0.9415, -0.1468,  0.0628,  0.6762,  0.1102],\n",
            "         [-0.8484,  0.4402, -0.0094,  0.7972,  0.3790],\n",
            "         [-0.7282, -0.0801,  0.2194,  0.6489,  0.2279],\n",
            "         [-0.5257,  0.3719,  0.2651,  0.8206,  0.3597],\n",
            "         [-0.4127,  0.3978,  0.4404,  0.7508,  0.2625]]])\n"
          ],
          "name": "stdout"
        }
      ]
    },
    {
      "cell_type": "code",
      "metadata": {
        "id": "LUjEaTkhwqD5",
        "colab_type": "code",
        "colab": {
          "base_uri": "https://localhost:8080/",
          "height": 35
        },
        "outputId": "1720986b-46fa-4c23-95a0-301b6499a3a1"
      },
      "source": [
        "out2 = Variable(torch.LongTensor([h]))\n",
        "out2.shape"
      ],
      "execution_count": 20,
      "outputs": [
        {
          "output_type": "execute_result",
          "data": {
            "text/plain": [
              "torch.Size([1, 5])"
            ]
          },
          "metadata": {
            "tags": []
          },
          "execution_count": 20
        }
      ]
    },
    {
      "cell_type": "markdown",
      "metadata": {
        "id": "t8EE5isntqOw",
        "colab_type": "text"
      },
      "source": [
        "input is batch, seq_len"
      ]
    },
    {
      "cell_type": "code",
      "metadata": {
        "id": "OF1Rgv9vNogn",
        "colab_type": "code",
        "colab": {
          "base_uri": "https://localhost:8080/",
          "height": 35
        },
        "outputId": "4d9275ad-1db8-4ea8-d406-2444a770a342"
      },
      "source": [
        "criterion = nn.CrossEntropyLoss()\n",
        "loss = 0 \n",
        "# for i in range (6): #@ seq len =6 as 6 charecter are copmming in\n",
        "loss += criterion(out, out2) # learning : 1. out2 needs a longTnesor. 2. it needs a scaler value not 2d etc (1,5)\n",
        "print(loss)"
      ],
      "execution_count": 23,
      "outputs": [
        {
          "output_type": "stream",
          "text": [
            "tensor(2.1184, grad_fn=<AddBackward0>)\n"
          ],
          "name": "stdout"
        }
      ]
    },
    {
      "cell_type": "markdown",
      "metadata": {
        "id": "O9vMJOwcanAb",
        "colab_type": "text"
      },
      "source": [
        "**4_1/** now predicting next character. inpuit at hihell and output as ihello \n",
        " **all first character one by one** then get loss function here "
      ]
    },
    {
      "cell_type": "code",
      "metadata": {
        "id": "iVbIm0FmyEap",
        "colab_type": "code",
        "colab": {}
      },
      "source": [
        "idx2char=['h','i','e', 'l', 'o']\n",
        "one_hot_lookup = [[1,0,0,0,0], #0 \n",
        "                  [0,1,0,0,0], #1\n",
        "                  [0,0,1,0,0], #2\n",
        "                  [0,0,0,1,0], #3\n",
        "                  [0,0,0,0,1]] #4\n",
        "x_data =[0, 1, 0, 2, 3, 3] # hihell\n",
        "\n",
        "y_data =[1, 0, 2, 3, 3, 4] # ihello"
      ],
      "execution_count": 37,
      "outputs": []
    },
    {
      "cell_type": "code",
      "metadata": {
        "id": "tFrfsVG9jjUI",
        "colab_type": "code",
        "colab": {}
      },
      "source": [
        "x_one_hot = [one_hot_lookup[x] for x in x_data]"
      ],
      "execution_count": 38,
      "outputs": []
    },
    {
      "cell_type": "code",
      "metadata": {
        "id": "p3279jjGkAv6",
        "colab_type": "code",
        "colab": {
          "base_uri": "https://localhost:8080/",
          "height": 126
        },
        "outputId": "b54b578f-7a47-48c8-8188-b46dfbc467ea"
      },
      "source": [
        "x_one_hot"
      ],
      "execution_count": 39,
      "outputs": [
        {
          "output_type": "execute_result",
          "data": {
            "text/plain": [
              "[[1, 0, 0, 0, 0],\n",
              " [0, 1, 0, 0, 0],\n",
              " [1, 0, 0, 0, 0],\n",
              " [0, 0, 1, 0, 0],\n",
              " [0, 0, 0, 1, 0],\n",
              " [0, 0, 0, 1, 0]]"
            ]
          },
          "metadata": {
            "tags": []
          },
          "execution_count": 39
        }
      ]
    },
    {
      "cell_type": "code",
      "metadata": {
        "id": "pqTHj70JkB3b",
        "colab_type": "code",
        "colab": {}
      },
      "source": [
        "inputs = Variable(torch.Tensor(x_one_hot))\n",
        "labels = Variable(torch.LongTensor(y_data))\n"
      ],
      "execution_count": 40,
      "outputs": []
    },
    {
      "cell_type": "code",
      "metadata": {
        "id": "okNIlXSKp4VF",
        "colab_type": "code",
        "colab": {}
      },
      "source": [
        "print(labels, inputs)"
      ],
      "execution_count": null,
      "outputs": []
    },
    {
      "cell_type": "code",
      "metadata": {
        "id": "rkRL3lAxji9F",
        "colab_type": "code",
        "colab": {}
      },
      "source": [
        " inputs = Variable(torch.Tensor(x))"
      ],
      "execution_count": null,
      "outputs": []
    },
    {
      "cell_type": "code",
      "metadata": {
        "id": "jOv3dZ1UjjhV",
        "colab_type": "code",
        "colab": {}
      },
      "source": [
        "num_classes =5 # non RNN parameter twll how many classes here\n",
        "input_size= 5 # no if input dimenitons\n",
        "seq_len = 1 # as 1 characterr are going in at once for 6 times\n",
        "hiddenO = 5 # output dimention\n",
        "batch =  1 \n",
        "num_dir =1\n",
        "num_layer =1"
      ],
      "execution_count": null,
      "outputs": []
    },
    {
      "cell_type": "code",
      "metadata": {
        "id": "pr5zXnzkrcAj",
        "colab_type": "code",
        "colab": {}
      },
      "source": [
        "class net(nn.Module):\n",
        "  def __init__(self):\n",
        "    super(net, self).__init__()\n",
        "\n",
        "    self.input_size = 5\n",
        "    self.hiddenO = 5\n",
        "    self.seq_len = 1\n",
        "    self.batch = 1\n",
        "    self.num_classes = 5\n",
        "    self.num_direction = 1\n",
        "    self.num_layer =1\n",
        "\n",
        "    self.cell = nn.RNN(input_size = self.input_size, hidden_size=self.hiddenO, batch_first=True)\n",
        "\n",
        "  def forward(self, input, h_O):\n",
        "    \n",
        "    input = input.view(self.batch, self.seq_len, self.input_size)\n",
        "\n",
        "    out, h_n = self.cell(input, h_O)\n",
        "    out = out.view(-1, self.num_classes) # to flatten to get the classes\n",
        "\n",
        "    return out, h_n\n",
        "  \n",
        "  def init_hidden(self):\n",
        "    return Variable(torch.zeros(self.num_direction*self.num_layer, self.batch, self.hiddenO))"
      ],
      "execution_count": 51,
      "outputs": []
    },
    {
      "cell_type": "code",
      "metadata": {
        "id": "DR5jAKumrb83",
        "colab_type": "code",
        "colab": {}
      },
      "source": [
        "model = net()"
      ],
      "execution_count": 52,
      "outputs": []
    },
    {
      "cell_type": "code",
      "metadata": {
        "id": "vvEr6sV3rb5f",
        "colab_type": "code",
        "colab": {}
      },
      "source": [
        "criterion = nn.c"
      ],
      "execution_count": null,
      "outputs": []
    },
    {
      "cell_type": "code",
      "metadata": {
        "id": "fCShkkVurb1u",
        "colab_type": "code",
        "colab": {}
      },
      "source": [
        ""
      ],
      "execution_count": null,
      "outputs": []
    },
    {
      "cell_type": "code",
      "metadata": {
        "id": "0BfSTx3erbxL",
        "colab_type": "code",
        "colab": {}
      },
      "source": [
        ""
      ],
      "execution_count": null,
      "outputs": []
    },
    {
      "cell_type": "code",
      "metadata": {
        "id": "hKTddjx3rbmV",
        "colab_type": "code",
        "colab": {}
      },
      "source": [
        ""
      ],
      "execution_count": null,
      "outputs": []
    },
    {
      "cell_type": "code",
      "metadata": {
        "id": "HX7awubCBHJh",
        "colab_type": "code",
        "colab": {
          "base_uri": "https://localhost:8080/",
          "height": 135
        },
        "outputId": "d76fb1c1-27fd-4633-fba4-cfaab83810a5"
      },
      "source": [
        "\n",
        "  def word2id (word):\n",
        "    find word then its value or id\n",
        "    return id    "
      ],
      "execution_count": 22,
      "outputs": [
        {
          "output_type": "error",
          "ename": "SyntaxError",
          "evalue": "ignored",
          "traceback": [
            "\u001b[0;36m  File \u001b[0;32m\"<ipython-input-22-5093ada4b880>\"\u001b[0;36m, line \u001b[0;32m2\u001b[0m\n\u001b[0;31m    find word then its value or id\u001b[0m\n\u001b[0m            ^\u001b[0m\n\u001b[0;31mSyntaxError\u001b[0m\u001b[0;31m:\u001b[0m invalid syntax\n"
          ]
        }
      ]
    },
    {
      "cell_type": "code",
      "metadata": {
        "id": "ihgSEBN0F5gB",
        "colab_type": "code",
        "colab": {}
      },
      "source": [
        "def id2wird (id):\n",
        "  return word\n"
      ],
      "execution_count": null,
      "outputs": []
    }
  ]
}